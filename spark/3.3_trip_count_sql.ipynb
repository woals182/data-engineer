{
 "cells": [
  {
   "cell_type": "code",
   "execution_count": 1,
   "id": "13e7b07f",
   "metadata": {},
   "outputs": [],
   "source": [
    "from pyspark.sql import SparkSession"
   ]
  },
  {
   "cell_type": "code",
   "execution_count": 2,
   "id": "27ab4642",
   "metadata": {},
   "outputs": [],
   "source": [
    "spark = SparkSession.builder.appName(\"trip_count_sql\").getOrCreate()"
   ]
  },
  {
   "cell_type": "code",
   "execution_count": 3,
   "id": "2b433ee8",
   "metadata": {},
   "outputs": [],
   "source": [
    "data = spark.read.csv(r\"C:\\Users\\woals\\data-engineering\\01-spark\\data\\tripdata_2020_03.csv\", inferSchema = True, header = True)"
   ]
  },
  {
   "cell_type": "code",
   "execution_count": 4,
   "id": "4b3bd394",
   "metadata": {},
   "outputs": [
    {
     "name": "stdout",
     "output_type": "stream",
     "text": [
      "+---+-----------------+--------------------+--------------------+-------------------+-------------------+-------------------+-------------------+------------+------------+----------+---------+-------------------+-----+----+---------+--------------------+-----------+----+----------+-------------------+-----------------+------------------+----------------+--------------+\n",
      "|_c0|hvfhs_license_num|dispatching_base_num|originating_base_num|   request_datetime|  on_scene_datetime|    pickup_datetime|   dropoff_datetime|PULocationID|DOLocationID|trip_miles|trip_time|base_passenger_fare|tolls| bcf|sales_tax|congestion_surcharge|airport_fee|tips|driver_pay|shared_request_flag|shared_match_flag|access_a_ride_flag|wav_request_flag|wav_match_flag|\n",
      "+---+-----------------+--------------------+--------------------+-------------------+-------------------+-------------------+-------------------+------------+------------+----------+---------+-------------------+-----+----+---------+--------------------+-----------+----+----------+-------------------+-----------------+------------------+----------------+--------------+\n",
      "|  0|           HV0005|              B02510|                null|2020-03-01 00:00:12|               null|2020-03-01 00:03:40|2020-03-01 00:23:39|          81|         159|     8.655|     1199|              24.45|  0.0|0.54|      1.9|                 0.0|       null| 0.0|     19.65|                  N|                N|                 N|               N|             N|\n",
      "|  1|           HV0005|              B02510|                null|2020-03-01 00:22:03|               null|2020-03-01 00:28:05|2020-03-01 00:38:57|         168|         119|     3.523|      652|              11.88|  0.0|0.24|     0.85|                 0.0|       null| 0.0|      9.37|                  N|                N|                 N|               N|             N|\n",
      "|  2|           HV0003|              B02764|              B02764|2020-02-29 23:57:45|2020-03-01 00:01:04|2020-03-01 00:03:07|2020-03-01 00:15:04|         137|         209|      4.07|      717|              14.57|  0.0|0.38|     1.38|                2.75|       null| 0.0|     16.24|                  N|                Y|                  |               N|             N|\n",
      "|  3|           HV0003|              B02764|              B02764|2020-03-01 00:04:06|2020-03-01 00:15:48|2020-03-01 00:18:42|2020-03-01 00:38:42|         209|          80|      4.73|     1200|              13.89|  0.0|0.35|     1.23|                0.75|       null| 0.0|     21.76|                  Y|                N|                  |               N|             N|\n",
      "|  4|           HV0003|              B02764|              B02764|2020-03-01 00:42:46|2020-03-01 00:43:18|2020-03-01 00:44:24|2020-03-01 00:58:44|         256|         226|      4.03|      860|               20.2|  0.0|0.51|     1.79|                 0.0|       null| 0.0|     19.64|                  N|                N|                  |               N|             N|\n",
      "+---+-----------------+--------------------+--------------------+-------------------+-------------------+-------------------+-------------------+------------+------------+----------+---------+-------------------+-----+----+---------+--------------------+-----------+----+----------+-------------------+-----------------+------------------+----------------+--------------+\n",
      "only showing top 5 rows\n",
      "\n"
     ]
    }
   ],
   "source": [
    "data.show(5)"
   ]
  },
  {
   "cell_type": "code",
   "execution_count": 5,
   "id": "ce581342",
   "metadata": {},
   "outputs": [],
   "source": [
    "data.createOrReplaceTempView(\"mobility_data\")"
   ]
  },
  {
   "cell_type": "code",
   "execution_count": 6,
   "id": "69f6fe6e",
   "metadata": {},
   "outputs": [
    {
     "name": "stdout",
     "output_type": "stream",
     "text": [
      "+---+-----------------+--------------------+--------------------+-------------------+-------------------+-------------------+-------------------+------------+------------+----------+---------+-------------------+-----+----+---------+--------------------+-----------+----+----------+-------------------+-----------------+------------------+----------------+--------------+\n",
      "|_c0|hvfhs_license_num|dispatching_base_num|originating_base_num|   request_datetime|  on_scene_datetime|    pickup_datetime|   dropoff_datetime|PULocationID|DOLocationID|trip_miles|trip_time|base_passenger_fare|tolls| bcf|sales_tax|congestion_surcharge|airport_fee|tips|driver_pay|shared_request_flag|shared_match_flag|access_a_ride_flag|wav_request_flag|wav_match_flag|\n",
      "+---+-----------------+--------------------+--------------------+-------------------+-------------------+-------------------+-------------------+------------+------------+----------+---------+-------------------+-----+----+---------+--------------------+-----------+----+----------+-------------------+-----------------+------------------+----------------+--------------+\n",
      "|  0|           HV0005|              B02510|                null|2020-03-01 00:00:12|               null|2020-03-01 00:03:40|2020-03-01 00:23:39|          81|         159|     8.655|     1199|              24.45|  0.0|0.54|      1.9|                 0.0|       null| 0.0|     19.65|                  N|                N|                 N|               N|             N|\n",
      "|  1|           HV0005|              B02510|                null|2020-03-01 00:22:03|               null|2020-03-01 00:28:05|2020-03-01 00:38:57|         168|         119|     3.523|      652|              11.88|  0.0|0.24|     0.85|                 0.0|       null| 0.0|      9.37|                  N|                N|                 N|               N|             N|\n",
      "|  2|           HV0003|              B02764|              B02764|2020-02-29 23:57:45|2020-03-01 00:01:04|2020-03-01 00:03:07|2020-03-01 00:15:04|         137|         209|      4.07|      717|              14.57|  0.0|0.38|     1.38|                2.75|       null| 0.0|     16.24|                  N|                Y|                  |               N|             N|\n",
      "|  3|           HV0003|              B02764|              B02764|2020-03-01 00:04:06|2020-03-01 00:15:48|2020-03-01 00:18:42|2020-03-01 00:38:42|         209|          80|      4.73|     1200|              13.89|  0.0|0.35|     1.23|                0.75|       null| 0.0|     21.76|                  Y|                N|                  |               N|             N|\n",
      "|  4|           HV0003|              B02764|              B02764|2020-03-01 00:42:46|2020-03-01 00:43:18|2020-03-01 00:44:24|2020-03-01 00:58:44|         256|         226|      4.03|      860|               20.2|  0.0|0.51|     1.79|                 0.0|       null| 0.0|     19.64|                  N|                N|                  |               N|             N|\n",
      "+---+-----------------+--------------------+--------------------+-------------------+-------------------+-------------------+-------------------+------------+------------+----------+---------+-------------------+-----+----+---------+--------------------+-----------+----+----------+-------------------+-----------------+------------------+----------------+--------------+\n",
      "\n"
     ]
    }
   ],
   "source": [
    "spark.sql(\"select * from mobility_data limit 5\").show()"
   ]
  },
  {
   "cell_type": "code",
   "execution_count": 7,
   "id": "bc90631e",
   "metadata": {},
   "outputs": [
    {
     "name": "stdout",
     "output_type": "stream",
     "text": [
      "+-----------+------+\n",
      "|pickup_date| trips|\n",
      "+-----------+------+\n",
      "| 2020-03-02|648990|\n",
      "| 2020-03-01|784260|\n",
      "| 2020-03-03|697880|\n",
      "| 2020-03-04|707879|\n",
      "| 2020-03-05|731165|\n",
      "| 2020-03-06|872012|\n",
      "| 2020-03-07|886071|\n",
      "| 2020-03-08|731222|\n",
      "| 2020-03-09|628940|\n",
      "| 2020-03-10|626474|\n",
      "| 2020-03-11|628601|\n",
      "| 2020-03-12|643257|\n",
      "| 2020-03-13|660914|\n",
      "| 2020-03-14|569397|\n",
      "| 2020-03-16|391518|\n",
      "| 2020-03-15|448125|\n",
      "| 2020-03-19|252773|\n",
      "| 2020-03-17|312298|\n",
      "| 2020-03-18|269233|\n",
      "| 2020-03-20|261900|\n",
      "+-----------+------+\n",
      "only showing top 20 rows\n",
      "\n"
     ]
    }
   ],
   "source": [
    "spark.sql(\"select pickup_date, count(*) as trips from (select split(pickup_datetime, ' ')[0] as pickup_date from mobility_data) group by pickup_date \").show()"
   ]
  },
  {
   "cell_type": "code",
   "execution_count": 8,
   "id": "22d03f49",
   "metadata": {},
   "outputs": [
    {
     "name": "stdout",
     "output_type": "stream",
     "text": [
      "== Parsed Logical Plan ==\n",
      "'Aggregate ['pickup_date], ['pickup_date, 'count(1) AS trips#363]\n",
      "+- 'SubqueryAlias __auto_generated_subquery_name\n",
      "   +- 'Project ['split('pickup_datetime,  )[0] AS pickup_date#362]\n",
      "      +- 'UnresolvedRelation [mobility_data], [], false\n",
      "\n",
      "== Analyzed Logical Plan ==\n",
      "pickup_date: string, trips: bigint\n",
      "Aggregate [pickup_date#362], [pickup_date#362, count(1) AS trips#363L]\n",
      "+- SubqueryAlias __auto_generated_subquery_name\n",
      "   +- Project [split(cast(pickup_datetime#23 as string),  , -1)[0] AS pickup_date#362]\n",
      "      +- SubqueryAlias mobility_data\n",
      "         +- View (`mobility_data`, [_c0#17,hvfhs_license_num#18,dispatching_base_num#19,originating_base_num#20,request_datetime#21,on_scene_datetime#22,pickup_datetime#23,dropoff_datetime#24,PULocationID#25,DOLocationID#26,trip_miles#27,trip_time#28,base_passenger_fare#29,tolls#30,bcf#31,sales_tax#32,congestion_surcharge#33,airport_fee#34,tips#35,driver_pay#36,shared_request_flag#37,shared_match_flag#38,access_a_ride_flag#39,wav_request_flag#40,wav_match_flag#41])\n",
      "            +- Relation [_c0#17,hvfhs_license_num#18,dispatching_base_num#19,originating_base_num#20,request_datetime#21,on_scene_datetime#22,pickup_datetime#23,dropoff_datetime#24,PULocationID#25,DOLocationID#26,trip_miles#27,trip_time#28,base_passenger_fare#29,tolls#30,bcf#31,sales_tax#32,congestion_surcharge#33,airport_fee#34,tips#35,driver_pay#36,shared_request_flag#37,shared_match_flag#38,access_a_ride_flag#39,wav_request_flag#40,wav_match_flag#41] csv\n",
      "\n",
      "== Optimized Logical Plan ==\n",
      "Aggregate [pickup_date#362], [pickup_date#362, count(1) AS trips#363L]\n",
      "+- Project [split(cast(pickup_datetime#23 as string),  , -1)[0] AS pickup_date#362]\n",
      "   +- Relation [_c0#17,hvfhs_license_num#18,dispatching_base_num#19,originating_base_num#20,request_datetime#21,on_scene_datetime#22,pickup_datetime#23,dropoff_datetime#24,PULocationID#25,DOLocationID#26,trip_miles#27,trip_time#28,base_passenger_fare#29,tolls#30,bcf#31,sales_tax#32,congestion_surcharge#33,airport_fee#34,tips#35,driver_pay#36,shared_request_flag#37,shared_match_flag#38,access_a_ride_flag#39,wav_request_flag#40,wav_match_flag#41] csv\n",
      "\n",
      "== Physical Plan ==\n",
      "AdaptiveSparkPlan isFinalPlan=false\n",
      "+- HashAggregate(keys=[pickup_date#362], functions=[count(1)], output=[pickup_date#362, trips#363L])\n",
      "   +- Exchange hashpartitioning(pickup_date#362, 200), ENSURE_REQUIREMENTS, [plan_id=143]\n",
      "      +- HashAggregate(keys=[pickup_date#362], functions=[partial_count(1)], output=[pickup_date#362, count#368L])\n",
      "         +- Project [split(cast(pickup_datetime#23 as string),  , -1)[0] AS pickup_date#362]\n",
      "            +- FileScan csv [pickup_datetime#23] Batched: false, DataFilters: [], Format: CSV, Location: InMemoryFileIndex(1 paths)[file:/C:/Users/woals/data-engineering/01-spark/data/tripdata_2020_03.csv], PartitionFilters: [], PushedFilters: [], ReadSchema: struct<pickup_datetime:timestamp>\n",
      "\n"
     ]
    }
   ],
   "source": [
    "spark.sql(\"select pickup_date, count(*) as trips from (select split(pickup_datetime, ' ')[0] as pickup_date from mobility_data) group by pickup_date \").explain(True)"
   ]
  },
  {
   "cell_type": "code",
   "execution_count": null,
   "id": "58b8fb45",
   "metadata": {},
   "outputs": [],
   "source": []
  }
 ],
 "metadata": {
  "kernelspec": {
   "display_name": "Python 3 (ipykernel)",
   "language": "python",
   "name": "python3"
  },
  "language_info": {
   "codemirror_mode": {
    "name": "ipython",
    "version": 3
   },
   "file_extension": ".py",
   "mimetype": "text/x-python",
   "name": "python",
   "nbconvert_exporter": "python",
   "pygments_lexer": "ipython3",
   "version": "3.8.16"
  }
 },
 "nbformat": 4,
 "nbformat_minor": 5
}
