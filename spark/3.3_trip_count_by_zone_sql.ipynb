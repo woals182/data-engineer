{
 "cells": [
  {
   "cell_type": "code",
   "execution_count": 1,
   "id": "9be00c22",
   "metadata": {},
   "outputs": [],
   "source": [
    "from pyspark.sql import SparkSession"
   ]
  },
  {
   "cell_type": "code",
   "execution_count": 2,
   "id": "67adac20",
   "metadata": {},
   "outputs": [],
   "source": [
    "spark = SparkSession.builder.appName(\"trip_count_by_zone_sql\").getOrCreate()"
   ]
  },
  {
   "cell_type": "code",
   "execution_count": 3,
   "id": "25268510",
   "metadata": {},
   "outputs": [],
   "source": [
    "trip_data = spark.read.csv(r\"C:\\Users\\woals\\data-engineering\\01-spark\\data\\tripdata_2020_03.csv\", inferSchema = True, header = True)\n",
    "zone_data = spark.read.csv(r\"C:\\Users\\woals\\data-engineering\\01-spark\\data\\taxi+_zone_lookup.csv\", inferSchema = True, header = True)"
   ]
  },
  {
   "cell_type": "code",
   "execution_count": 4,
   "id": "6b0c9dab",
   "metadata": {},
   "outputs": [
    {
     "name": "stdout",
     "output_type": "stream",
     "text": [
      "+---+-----------------+--------------------+--------------------+-------------------+-------------------+-------------------+-------------------+------------+------------+----------+---------+-------------------+-----+----+---------+--------------------+-----------+----+----------+-------------------+-----------------+------------------+----------------+--------------+\n",
      "|_c0|hvfhs_license_num|dispatching_base_num|originating_base_num|   request_datetime|  on_scene_datetime|    pickup_datetime|   dropoff_datetime|PULocationID|DOLocationID|trip_miles|trip_time|base_passenger_fare|tolls| bcf|sales_tax|congestion_surcharge|airport_fee|tips|driver_pay|shared_request_flag|shared_match_flag|access_a_ride_flag|wav_request_flag|wav_match_flag|\n",
      "+---+-----------------+--------------------+--------------------+-------------------+-------------------+-------------------+-------------------+------------+------------+----------+---------+-------------------+-----+----+---------+--------------------+-----------+----+----------+-------------------+-----------------+------------------+----------------+--------------+\n",
      "|  0|           HV0005|              B02510|                null|2020-03-01 00:00:12|               null|2020-03-01 00:03:40|2020-03-01 00:23:39|          81|         159|     8.655|     1199|              24.45|  0.0|0.54|      1.9|                 0.0|       null| 0.0|     19.65|                  N|                N|                 N|               N|             N|\n",
      "|  1|           HV0005|              B02510|                null|2020-03-01 00:22:03|               null|2020-03-01 00:28:05|2020-03-01 00:38:57|         168|         119|     3.523|      652|              11.88|  0.0|0.24|     0.85|                 0.0|       null| 0.0|      9.37|                  N|                N|                 N|               N|             N|\n",
      "|  2|           HV0003|              B02764|              B02764|2020-02-29 23:57:45|2020-03-01 00:01:04|2020-03-01 00:03:07|2020-03-01 00:15:04|         137|         209|      4.07|      717|              14.57|  0.0|0.38|     1.38|                2.75|       null| 0.0|     16.24|                  N|                Y|                  |               N|             N|\n",
      "|  3|           HV0003|              B02764|              B02764|2020-03-01 00:04:06|2020-03-01 00:15:48|2020-03-01 00:18:42|2020-03-01 00:38:42|         209|          80|      4.73|     1200|              13.89|  0.0|0.35|     1.23|                0.75|       null| 0.0|     21.76|                  Y|                N|                  |               N|             N|\n",
      "|  4|           HV0003|              B02764|              B02764|2020-03-01 00:42:46|2020-03-01 00:43:18|2020-03-01 00:44:24|2020-03-01 00:58:44|         256|         226|      4.03|      860|               20.2|  0.0|0.51|     1.79|                 0.0|       null| 0.0|     19.64|                  N|                N|                  |               N|             N|\n",
      "+---+-----------------+--------------------+--------------------+-------------------+-------------------+-------------------+-------------------+------------+------------+----------+---------+-------------------+-----+----+---------+--------------------+-----------+----+----------+-------------------+-----------------+------------------+----------------+--------------+\n",
      "only showing top 5 rows\n",
      "\n"
     ]
    }
   ],
   "source": [
    "trip_data.show(5)"
   ]
  },
  {
   "cell_type": "code",
   "execution_count": 5,
   "id": "dfc651df",
   "metadata": {},
   "outputs": [
    {
     "name": "stdout",
     "output_type": "stream",
     "text": [
      "+----------+-------------+--------------------+------------+\n",
      "|LocationID|      Borough|                Zone|service_zone|\n",
      "+----------+-------------+--------------------+------------+\n",
      "|         1|          EWR|      Newark Airport|         EWR|\n",
      "|         2|       Queens|         Jamaica Bay|   Boro Zone|\n",
      "|         3|        Bronx|Allerton/Pelham G...|   Boro Zone|\n",
      "|         4|    Manhattan|       Alphabet City| Yellow Zone|\n",
      "|         5|Staten Island|       Arden Heights|   Boro Zone|\n",
      "+----------+-------------+--------------------+------------+\n",
      "only showing top 5 rows\n",
      "\n"
     ]
    }
   ],
   "source": [
    "zone_data.show(5)"
   ]
  },
  {
   "cell_type": "code",
   "execution_count": 6,
   "id": "2255f6fc",
   "metadata": {},
   "outputs": [],
   "source": [
    "trip_data.createOrReplaceTempView(\"trip_data\")\n",
    "zone_data.createOrReplaceTempView(\"zone_data\")"
   ]
  },
  {
   "cell_type": "code",
   "execution_count": 7,
   "id": "1bba6eef",
   "metadata": {},
   "outputs": [
    {
     "name": "stdout",
     "output_type": "stream",
     "text": [
      "+---+-----------------+--------------------+--------------------+-------------------+-------------------+-------------------+-------------------+------------+------------+----------+---------+-------------------+-----+----+---------+--------------------+-----------+----+----------+-------------------+-----------------+------------------+----------------+--------------+\n",
      "|_c0|hvfhs_license_num|dispatching_base_num|originating_base_num|   request_datetime|  on_scene_datetime|    pickup_datetime|   dropoff_datetime|PULocationID|DOLocationID|trip_miles|trip_time|base_passenger_fare|tolls| bcf|sales_tax|congestion_surcharge|airport_fee|tips|driver_pay|shared_request_flag|shared_match_flag|access_a_ride_flag|wav_request_flag|wav_match_flag|\n",
      "+---+-----------------+--------------------+--------------------+-------------------+-------------------+-------------------+-------------------+------------+------------+----------+---------+-------------------+-----+----+---------+--------------------+-----------+----+----------+-------------------+-----------------+------------------+----------------+--------------+\n",
      "|  0|           HV0005|              B02510|                null|2020-03-01 00:00:12|               null|2020-03-01 00:03:40|2020-03-01 00:23:39|          81|         159|     8.655|     1199|              24.45|  0.0|0.54|      1.9|                 0.0|       null| 0.0|     19.65|                  N|                N|                 N|               N|             N|\n",
      "|  1|           HV0005|              B02510|                null|2020-03-01 00:22:03|               null|2020-03-01 00:28:05|2020-03-01 00:38:57|         168|         119|     3.523|      652|              11.88|  0.0|0.24|     0.85|                 0.0|       null| 0.0|      9.37|                  N|                N|                 N|               N|             N|\n",
      "|  2|           HV0003|              B02764|              B02764|2020-02-29 23:57:45|2020-03-01 00:01:04|2020-03-01 00:03:07|2020-03-01 00:15:04|         137|         209|      4.07|      717|              14.57|  0.0|0.38|     1.38|                2.75|       null| 0.0|     16.24|                  N|                Y|                  |               N|             N|\n",
      "|  3|           HV0003|              B02764|              B02764|2020-03-01 00:04:06|2020-03-01 00:15:48|2020-03-01 00:18:42|2020-03-01 00:38:42|         209|          80|      4.73|     1200|              13.89|  0.0|0.35|     1.23|                0.75|       null| 0.0|     21.76|                  Y|                N|                  |               N|             N|\n",
      "|  4|           HV0003|              B02764|              B02764|2020-03-01 00:42:46|2020-03-01 00:43:18|2020-03-01 00:44:24|2020-03-01 00:58:44|         256|         226|      4.03|      860|               20.2|  0.0|0.51|     1.79|                 0.0|       null| 0.0|     19.64|                  N|                N|                  |               N|             N|\n",
      "+---+-----------------+--------------------+--------------------+-------------------+-------------------+-------------------+-------------------+------------+------------+----------+---------+-------------------+-----+----+---------+--------------------+-----------+----+----------+-------------------+-----------------+------------------+----------------+--------------+\n",
      "\n"
     ]
    }
   ],
   "source": [
    "spark.sql(\"select * from trip_data limit 5\").show()"
   ]
  },
  {
   "cell_type": "code",
   "execution_count": 8,
   "id": "75a1459c",
   "metadata": {},
   "outputs": [
    {
     "name": "stdout",
     "output_type": "stream",
     "text": [
      "+----------+-------------+--------------------+------------+\n",
      "|LocationID|      Borough|                Zone|service_zone|\n",
      "+----------+-------------+--------------------+------------+\n",
      "|         1|          EWR|      Newark Airport|         EWR|\n",
      "|         2|       Queens|         Jamaica Bay|   Boro Zone|\n",
      "|         3|        Bronx|Allerton/Pelham G...|   Boro Zone|\n",
      "|         4|    Manhattan|       Alphabet City| Yellow Zone|\n",
      "|         5|Staten Island|       Arden Heights|   Boro Zone|\n",
      "+----------+-------------+--------------------+------------+\n",
      "\n"
     ]
    }
   ],
   "source": [
    "spark.sql(\"select * from zone_data limit 5\").show()"
   ]
  },
  {
   "cell_type": "code",
   "execution_count": 9,
   "id": "c34a8891",
   "metadata": {
    "scrolled": true
   },
   "outputs": [
    {
     "name": "stdout",
     "output_type": "stream",
     "text": [
      "+-------------+-------+\n",
      "|      borough|  trips|\n",
      "+-------------+-------+\n",
      "|       Queens|2437394|\n",
      "|          EWR|    362|\n",
      "|      Unknown|    845|\n",
      "|     Brooklyn|3735765|\n",
      "|Staten Island| 178818|\n",
      "|    Manhattan|4953147|\n",
      "|        Bronx|2086597|\n",
      "+-------------+-------+\n",
      "\n"
     ]
    }
   ],
   "source": [
    "spark.sql(\"select borough, count(*) as trips from \\\n",
    "(select zone_data.Borough as borough \\\n",
    "from trip_data join zone_data on trip_data.PULocationID = zone_data.LocationID) \\\n",
    "group by borough\").show()"
   ]
  },
  {
   "cell_type": "code",
   "execution_count": 10,
   "id": "b24f0bdc",
   "metadata": {},
   "outputs": [
    {
     "name": "stdout",
     "output_type": "stream",
     "text": [
      "+-------------+-------+\n",
      "|      borough|  trips|\n",
      "+-------------+-------+\n",
      "|       Queens|2468416|\n",
      "|          EWR|  65066|\n",
      "|      Unknown| 387760|\n",
      "|     Brooklyn|3696684|\n",
      "|Staten Island| 177727|\n",
      "|    Manhattan|4553783|\n",
      "|        Bronx|2043492|\n",
      "+-------------+-------+\n",
      "\n"
     ]
    }
   ],
   "source": [
    "spark.sql(\"select borough, count(*) as trips from \\\n",
    "(select zone_data.Borough as borough \\\n",
    "from trip_data join zone_data on trip_data.DOLocationID = zone_data.LocationID) \\\n",
    "group by borough\").show()"
   ]
  },
  {
   "cell_type": "code",
   "execution_count": 11,
   "id": "a391a112",
   "metadata": {},
   "outputs": [
    {
     "name": "stdout",
     "output_type": "stream",
     "text": [
      "+--------------------+------+\n",
      "|                Zone| trips|\n",
      "+--------------------+------+\n",
      "| Crown Heights North|163091|\n",
      "|       East New York|134198|\n",
      "|         JFK Airport|114182|\n",
      "|        East Village|112017|\n",
      "|      Bushwick South|110150|\n",
      "|Central Harlem North|108070|\n",
      "|   LaGuardia Airport|104119|\n",
      "|Washington Height...| 97324|\n",
      "|Flatbush/Ditmas Park| 95724|\n",
      "|            Canarsie| 94484|\n",
      "|TriBeCa/Civic Center| 94155|\n",
      "|             Astoria| 92676|\n",
      "|             Bedford| 90352|\n",
      "|      Midtown Center| 90262|\n",
      "|  Stuyvesant Heights| 88749|\n",
      "|            Union Sq| 88372|\n",
      "|Times Sq/Theatre ...| 86871|\n",
      "|Prospect-Lefferts...| 84347|\n",
      "|         Brownsville| 82764|\n",
      "|Mott Haven/Port M...| 82396|\n",
      "+--------------------+------+\n",
      "only showing top 20 rows\n",
      "\n"
     ]
    }
   ],
   "source": [
    "spark.sql(\"SELECT zone_data.Zone, count(*) AS trips\\\n",
    " FROM trip_data JOIN zone_data ON trip_data.PULocationID = zone_data.LocationID \\\n",
    " WHERE trip_data.hvfhs_license_num = 'HV0003' \\\n",
    " GROUP BY zone_data.Zone order by trips desc\").show()"
   ]
  },
  {
   "cell_type": "code",
   "execution_count": 12,
   "id": "8b2681a0",
   "metadata": {},
   "outputs": [
    {
     "name": "stdout",
     "output_type": "stream",
     "text": [
      "== Parsed Logical Plan ==\n",
      "'Sort ['trips DESC NULLS LAST], true\n",
      "+- 'Aggregate ['zone_data.Zone], ['zone_data.Zone, 'count(1) AS trips#474]\n",
      "   +- 'Filter ('trip_data.hvfhs_license_num = HV0003)\n",
      "      +- 'Join Inner, ('trip_data.PULocationID = 'zone_data.LocationID)\n",
      "         :- 'UnresolvedRelation [trip_data], [], false\n",
      "         +- 'UnresolvedRelation [zone_data], [], false\n",
      "\n",
      "== Analyzed Logical Plan ==\n",
      "Zone: string, trips: bigint\n",
      "Sort [trips#474L DESC NULLS LAST], true\n",
      "+- Aggregate [Zone#86], [Zone#86, count(1) AS trips#474L]\n",
      "   +- Filter (hvfhs_license_num#18 = HV0003)\n",
      "      +- Join Inner, (PULocationID#25 = LocationID#84)\n",
      "         :- SubqueryAlias trip_data\n",
      "         :  +- View (`trip_data`, [_c0#17,hvfhs_license_num#18,dispatching_base_num#19,originating_base_num#20,request_datetime#21,on_scene_datetime#22,pickup_datetime#23,dropoff_datetime#24,PULocationID#25,DOLocationID#26,trip_miles#27,trip_time#28,base_passenger_fare#29,tolls#30,bcf#31,sales_tax#32,congestion_surcharge#33,airport_fee#34,tips#35,driver_pay#36,shared_request_flag#37,shared_match_flag#38,access_a_ride_flag#39,wav_request_flag#40,wav_match_flag#41])\n",
      "         :     +- Relation [_c0#17,hvfhs_license_num#18,dispatching_base_num#19,originating_base_num#20,request_datetime#21,on_scene_datetime#22,pickup_datetime#23,dropoff_datetime#24,PULocationID#25,DOLocationID#26,trip_miles#27,trip_time#28,base_passenger_fare#29,tolls#30,bcf#31,sales_tax#32,congestion_surcharge#33,airport_fee#34,tips#35,driver_pay#36,shared_request_flag#37,shared_match_flag#38,access_a_ride_flag#39,wav_request_flag#40,wav_match_flag#41] csv\n",
      "         +- SubqueryAlias zone_data\n",
      "            +- View (`zone_data`, [LocationID#84,Borough#85,Zone#86,service_zone#87])\n",
      "               +- Relation [LocationID#84,Borough#85,Zone#86,service_zone#87] csv\n",
      "\n",
      "== Optimized Logical Plan ==\n",
      "Sort [trips#474L DESC NULLS LAST], true\n",
      "+- Aggregate [Zone#86], [Zone#86, count(1) AS trips#474L]\n",
      "   +- Project [Zone#86]\n",
      "      +- Join Inner, (PULocationID#25 = LocationID#84)\n",
      "         :- Project [PULocationID#25]\n",
      "         :  +- Filter ((isnotnull(hvfhs_license_num#18) AND (hvfhs_license_num#18 = HV0003)) AND isnotnull(PULocationID#25))\n",
      "         :     +- Relation [_c0#17,hvfhs_license_num#18,dispatching_base_num#19,originating_base_num#20,request_datetime#21,on_scene_datetime#22,pickup_datetime#23,dropoff_datetime#24,PULocationID#25,DOLocationID#26,trip_miles#27,trip_time#28,base_passenger_fare#29,tolls#30,bcf#31,sales_tax#32,congestion_surcharge#33,airport_fee#34,tips#35,driver_pay#36,shared_request_flag#37,shared_match_flag#38,access_a_ride_flag#39,wav_request_flag#40,wav_match_flag#41] csv\n",
      "         +- Project [LocationID#84, Zone#86]\n",
      "            +- Filter isnotnull(LocationID#84)\n",
      "               +- Relation [LocationID#84,Borough#85,Zone#86,service_zone#87] csv\n",
      "\n",
      "== Physical Plan ==\n",
      "AdaptiveSparkPlan isFinalPlan=false\n",
      "+- Sort [trips#474L DESC NULLS LAST], true, 0\n",
      "   +- Exchange rangepartitioning(trips#474L DESC NULLS LAST, 200), ENSURE_REQUIREMENTS, [plan_id=641]\n",
      "      +- HashAggregate(keys=[Zone#86], functions=[count(1)], output=[Zone#86, trips#474L])\n",
      "         +- Exchange hashpartitioning(Zone#86, 200), ENSURE_REQUIREMENTS, [plan_id=638]\n",
      "            +- HashAggregate(keys=[Zone#86], functions=[partial_count(1)], output=[Zone#86, count#479L])\n",
      "               +- Project [Zone#86]\n",
      "                  +- BroadcastHashJoin [PULocationID#25], [LocationID#84], Inner, BuildRight, false\n",
      "                     :- Project [PULocationID#25]\n",
      "                     :  +- Filter ((isnotnull(hvfhs_license_num#18) AND (hvfhs_license_num#18 = HV0003)) AND isnotnull(PULocationID#25))\n",
      "                     :     +- FileScan csv [hvfhs_license_num#18,PULocationID#25] Batched: false, DataFilters: [isnotnull(hvfhs_license_num#18), (hvfhs_license_num#18 = HV0003), isnotnull(PULocationID#25)], Format: CSV, Location: InMemoryFileIndex(1 paths)[file:/C:/Users/woals/data-engineering/01-spark/data/tripdata_2020_03.csv], PartitionFilters: [], PushedFilters: [IsNotNull(hvfhs_license_num), EqualTo(hvfhs_license_num,HV0003), IsNotNull(PULocationID)], ReadSchema: struct<hvfhs_license_num:string,PULocationID:int>\n",
      "                     +- BroadcastExchange HashedRelationBroadcastMode(List(cast(input[0, int, false] as bigint)),false), [plan_id=633]\n",
      "                        +- Filter isnotnull(LocationID#84)\n",
      "                           +- FileScan csv [LocationID#84,Zone#86] Batched: false, DataFilters: [isnotnull(LocationID#84)], Format: CSV, Location: InMemoryFileIndex(1 paths)[file:/C:/Users/woals/data-engineering/01-spark/data/taxi+_zone_lookup...., PartitionFilters: [], PushedFilters: [IsNotNull(LocationID)], ReadSchema: struct<LocationID:int,Zone:string>\n",
      "\n"
     ]
    }
   ],
   "source": [
    "spark.sql(\"SELECT zone_data.Zone, count(*) AS trips\\\n",
    " FROM trip_data JOIN zone_data ON trip_data.PULocationID = zone_data.LocationID \\\n",
    " WHERE trip_data.hvfhs_license_num = 'HV0003' \\\n",
    " GROUP BY zone_data.Zone order by trips desc\").explain(True)"
   ]
  },
  {
   "cell_type": "code",
   "execution_count": null,
   "id": "324f135c",
   "metadata": {},
   "outputs": [],
   "source": []
  }
 ],
 "metadata": {
  "kernelspec": {
   "display_name": "Python 3 (ipykernel)",
   "language": "python",
   "name": "python3"
  },
  "language_info": {
   "codemirror_mode": {
    "name": "ipython",
    "version": 3
   },
   "file_extension": ".py",
   "mimetype": "text/x-python",
   "name": "python",
   "nbconvert_exporter": "python",
   "pygments_lexer": "ipython3",
   "version": "3.8.16"
  }
 },
 "nbformat": 4,
 "nbformat_minor": 5
}
