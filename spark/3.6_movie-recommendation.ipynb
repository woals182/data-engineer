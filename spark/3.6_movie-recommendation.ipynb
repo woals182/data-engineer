{
 "cells": [
  {
   "cell_type": "code",
   "execution_count": 2,
   "id": "a6f15ffe",
   "metadata": {},
   "outputs": [],
   "source": [
    "from pyspark.sql import SparkSession"
   ]
  },
  {
   "cell_type": "code",
   "execution_count": 3,
   "id": "8f8754a7",
   "metadata": {},
   "outputs": [],
   "source": [
    "MAX_MEMORY = \"5g\"\n",
    "spark = SparkSession.builder.appName(\"movie-recommendation\")\\\n",
    "    .config(\"spark.executor.memory\", MAX_MEMORY)\\\n",
    "    .config(\"spark.driver.memory\", MAX_MEMORY)\\\n",
    "    .getOrCreate()"
   ]
  },
  {
   "cell_type": "code",
   "execution_count": 5,
   "id": "e5891199",
   "metadata": {},
   "outputs": [],
   "source": [
    "ratings_file = \"/Users/woals/data-engineering/01-spark/data/ml-25m/ratings.csv\"\n",
    "ratings_df = spark.read.csv(f\"file:///{ratings_file}\", inferSchema=True, header=True)"
   ]
  },
  {
   "cell_type": "code",
   "execution_count": 6,
   "id": "49bb909b",
   "metadata": {},
   "outputs": [
    {
     "name": "stdout",
     "output_type": "stream",
     "text": [
      "+------+-------+------+----------+\n",
      "|userId|movieId|rating| timestamp|\n",
      "+------+-------+------+----------+\n",
      "|     1|    296|   5.0|1147880044|\n",
      "|     1|    306|   3.5|1147868817|\n",
      "|     1|    307|   5.0|1147868828|\n",
      "|     1|    665|   5.0|1147878820|\n",
      "|     1|    899|   3.5|1147868510|\n",
      "|     1|   1088|   4.0|1147868495|\n",
      "|     1|   1175|   3.5|1147868826|\n",
      "|     1|   1217|   3.5|1147878326|\n",
      "|     1|   1237|   5.0|1147868839|\n",
      "|     1|   1250|   4.0|1147868414|\n",
      "|     1|   1260|   3.5|1147877857|\n",
      "|     1|   1653|   4.0|1147868097|\n",
      "|     1|   2011|   2.5|1147868079|\n",
      "|     1|   2012|   2.5|1147868068|\n",
      "|     1|   2068|   2.5|1147869044|\n",
      "|     1|   2161|   3.5|1147868609|\n",
      "|     1|   2351|   4.5|1147877957|\n",
      "|     1|   2573|   4.0|1147878923|\n",
      "|     1|   2632|   5.0|1147878248|\n",
      "|     1|   2692|   5.0|1147869100|\n",
      "+------+-------+------+----------+\n",
      "only showing top 20 rows\n",
      "\n"
     ]
    }
   ],
   "source": [
    "ratings_df.show()"
   ]
  },
  {
   "cell_type": "code",
   "execution_count": 7,
   "id": "d905aec3",
   "metadata": {},
   "outputs": [],
   "source": [
    "ratings_df = ratings_df.select([\"userId\", \"movieId\", \"rating\"])"
   ]
  },
  {
   "cell_type": "code",
   "execution_count": 8,
   "id": "13568d5a",
   "metadata": {},
   "outputs": [
    {
     "name": "stdout",
     "output_type": "stream",
     "text": [
      "root\n",
      " |-- userId: integer (nullable = true)\n",
      " |-- movieId: integer (nullable = true)\n",
      " |-- rating: double (nullable = true)\n",
      "\n"
     ]
    }
   ],
   "source": [
    "ratings_df.printSchema()"
   ]
  },
  {
   "cell_type": "code",
   "execution_count": 9,
   "id": "9c426807",
   "metadata": {},
   "outputs": [
    {
     "name": "stdout",
     "output_type": "stream",
     "text": [
      "+-------+------------------+\n",
      "|summary|            rating|\n",
      "+-------+------------------+\n",
      "|  count|          25000095|\n",
      "|   mean| 3.533854451353085|\n",
      "| stddev|1.0607439611423535|\n",
      "|    min|               0.5|\n",
      "|    max|               5.0|\n",
      "+-------+------------------+\n",
      "\n"
     ]
    }
   ],
   "source": [
    "ratings_df.select(\"rating\").describe().show()"
   ]
  },
  {
   "cell_type": "code",
   "execution_count": 10,
   "id": "e0eb4a8c",
   "metadata": {},
   "outputs": [],
   "source": [
    "train_df, test_df = ratings_df.randomSplit([0.8, 0.2])"
   ]
  },
  {
   "cell_type": "code",
   "execution_count": 11,
   "id": "67ed0cd9",
   "metadata": {},
   "outputs": [],
   "source": [
    "from pyspark.ml.recommendation import ALS"
   ]
  },
  {
   "cell_type": "code",
   "execution_count": 12,
   "id": "991d9b51",
   "metadata": {},
   "outputs": [],
   "source": [
    "als = ALS(\n",
    "    maxIter=5,\n",
    "    regParam=0.1,\n",
    "    userCol=\"userId\",\n",
    "    itemCol=\"movieId\",\n",
    "    ratingCol=\"rating\",\n",
    "    coldStartStrategy=\"drop\"\n",
    ")"
   ]
  },
  {
   "cell_type": "code",
   "execution_count": 13,
   "id": "fb149194",
   "metadata": {},
   "outputs": [],
   "source": [
    "model = als.fit(train_df)"
   ]
  },
  {
   "cell_type": "code",
   "execution_count": 14,
   "id": "6512ffa6",
   "metadata": {},
   "outputs": [],
   "source": [
    "predictions = model.transform(test_df)"
   ]
  },
  {
   "cell_type": "code",
   "execution_count": 15,
   "id": "a0818a45",
   "metadata": {},
   "outputs": [
    {
     "name": "stdout",
     "output_type": "stream",
     "text": [
      "+------+-------+------+----------+\n",
      "|userId|movieId|rating|prediction|\n",
      "+------+-------+------+----------+\n",
      "|   137|   1645|   3.0| 3.1439996|\n",
      "|   321|   6620|   3.5| 3.7453382|\n",
      "|   375|   1580|   2.5| 3.4874847|\n",
      "|   588|   1645|   2.5| 2.7212934|\n",
      "|   613|   1580|   3.0| 3.3409734|\n",
      "|   613|   1645|   4.0| 3.6792169|\n",
      "|   633|   1591|   5.0|  3.428872|\n",
      "|   772|    471|   4.0|  3.433312|\n",
      "|   772|   2122|   2.0|  2.035382|\n",
      "|   804|   3175|   5.0|  4.481285|\n",
      "|   847|   1959|   2.0| 3.2072742|\n",
      "|   847|   4818|   0.5| 1.0782983|\n",
      "|   847|   6620|   4.0| 3.7067366|\n",
      "|   847| 180981|   3.5| 3.3271582|\n",
      "|  1139|   1580|   4.0| 3.6355038|\n",
      "|  1265|   3175|   3.5| 3.2298932|\n",
      "|  1352|   1088|   4.5| 3.3385966|\n",
      "|  1561|   3175|   4.0| 3.3129842|\n",
      "|  1924|   2366|   4.0|  3.391782|\n",
      "|  1977|    833|   1.0|  1.520834|\n",
      "+------+-------+------+----------+\n",
      "only showing top 20 rows\n",
      "\n"
     ]
    }
   ],
   "source": [
    "predictions.show()"
   ]
  },
  {
   "cell_type": "code",
   "execution_count": 16,
   "id": "aff62bb7",
   "metadata": {},
   "outputs": [
    {
     "name": "stdout",
     "output_type": "stream",
     "text": [
      "+-------+------------------+------------------+\n",
      "|summary|            rating|        prediction|\n",
      "+-------+------------------+------------------+\n",
      "|  count|           5001644|           5001644|\n",
      "|   mean| 3.534603122493324|3.4419646015852527|\n",
      "| stddev|1.0602847574395575|0.6499855123810246|\n",
      "|    min|               0.5|         -2.159045|\n",
      "|    max|               5.0|           6.71361|\n",
      "+-------+------------------+------------------+\n",
      "\n"
     ]
    }
   ],
   "source": [
    "predictions.select('rating', 'prediction').describe().show()"
   ]
  },
  {
   "cell_type": "code",
   "execution_count": 17,
   "id": "595399d0",
   "metadata": {},
   "outputs": [],
   "source": [
    "from pyspark.ml.evaluation import RegressionEvaluator\n",
    "\n",
    "evaluator = RegressionEvaluator(metricName=\"rmse\", labelCol='rating', predictionCol='prediction')"
   ]
  },
  {
   "cell_type": "code",
   "execution_count": 18,
   "id": "0dc8c946",
   "metadata": {},
   "outputs": [],
   "source": [
    "rmse = evaluator.evaluate(predictions)"
   ]
  },
  {
   "cell_type": "code",
   "execution_count": 19,
   "id": "ec5f0386",
   "metadata": {},
   "outputs": [
    {
     "name": "stdout",
     "output_type": "stream",
     "text": [
      "0.8064087612267029\n"
     ]
    }
   ],
   "source": [
    "print(rmse)"
   ]
  },
  {
   "cell_type": "code",
   "execution_count": 20,
   "id": "7fe2130a",
   "metadata": {},
   "outputs": [
    {
     "name": "stdout",
     "output_type": "stream",
     "text": [
      "+------+--------------------+\n",
      "|userId|     recommendations|\n",
      "+------+--------------------+\n",
      "|    28|[{194434, 7.42172...|\n",
      "|    31|[{203882, 3.81943...|\n",
      "|    34|[{194434, 5.62247...|\n",
      "|    53|[{194334, 6.35528...|\n",
      "|    65|[{144202, 6.24030...|\n",
      "|    78|[{200930, 6.75907...|\n",
      "|    81|[{200930, 5.15285...|\n",
      "|    85|[{203882, 5.80957...|\n",
      "|   101|[{203086, 5.22314...|\n",
      "|   108|[{203086, 5.34636...|\n",
      "|   115|[{203882, 6.09876...|\n",
      "|   126|[{203882, 6.40953...|\n",
      "|   133|[{203882, 5.56322...|\n",
      "|   137|[{205453, 5.53613...|\n",
      "|   148|[{183947, 5.57466...|\n",
      "|   155|[{194434, 5.81972...|\n",
      "|   183|[{203882, 6.09008...|\n",
      "|   193|[{194434, 5.20776...|\n",
      "|   210|[{199187, 8.08775...|\n",
      "|   211|[{203086, 6.34462...|\n",
      "+------+--------------------+\n",
      "only showing top 20 rows\n",
      "\n"
     ]
    }
   ],
   "source": [
    "model.recommendForAllUsers(3).show()"
   ]
  },
  {
   "cell_type": "code",
   "execution_count": 21,
   "id": "c631d5c6",
   "metadata": {},
   "outputs": [
    {
     "name": "stdout",
     "output_type": "stream",
     "text": [
      "+-------+--------------------+\n",
      "|movieId|     recommendations|\n",
      "+-------+--------------------+\n",
      "|     28|[{105801, 5.56028...|\n",
      "|     31|[{87426, 5.349241...|\n",
      "|     34|[{58248, 5.607516...|\n",
      "|     53|[{106621, 5.26489...|\n",
      "|     65|[{87426, 5.278626...|\n",
      "|     78|[{149507, 4.78111...|\n",
      "|     81|[{87816, 4.819454...|\n",
      "|     85|[{105801, 4.89818...|\n",
      "|    101|[{26829, 4.953245...|\n",
      "|    108|[{86854, 5.144724...|\n",
      "|    115|[{18885, 5.85764}...|\n",
      "|    126|[{87426, 4.914584...|\n",
      "|    133|[{86854, 6.031361...|\n",
      "|    137|[{86854, 5.724830...|\n",
      "|    148|[{87816, 4.095135...|\n",
      "|    155|[{149507, 5.04689...|\n",
      "|    183|[{149507, 5.12489...|\n",
      "|    193|[{87426, 4.944092...|\n",
      "|    210|[{87426, 4.792523...|\n",
      "|    211|[{105801, 5.19140...|\n",
      "+-------+--------------------+\n",
      "only showing top 20 rows\n",
      "\n"
     ]
    }
   ],
   "source": [
    "model.recommendForAllItems(3).show()"
   ]
  },
  {
   "cell_type": "code",
   "execution_count": 22,
   "id": "f972dfc7",
   "metadata": {},
   "outputs": [
    {
     "name": "stdout",
     "output_type": "stream",
     "text": [
      "+------+\n",
      "|userId|\n",
      "+------+\n",
      "|    65|\n",
      "|    78|\n",
      "|    81|\n",
      "+------+\n",
      "\n"
     ]
    }
   ],
   "source": [
    "from pyspark.sql.types import IntegerType\n",
    "\n",
    "user_list = [65, 78, 81]\n",
    "users_df = spark.createDataFrame(user_list, IntegerType()).toDF('userId')\n",
    "\n",
    "users_df.show()"
   ]
  },
  {
   "cell_type": "code",
   "execution_count": 23,
   "id": "e0e91f96",
   "metadata": {},
   "outputs": [],
   "source": [
    "user_recs = model.recommendForUserSubset(users_df, 5)"
   ]
  },
  {
   "cell_type": "code",
   "execution_count": 24,
   "id": "70360cbf",
   "metadata": {},
   "outputs": [],
   "source": [
    "movies_list = user_recs.collect()[0].recommendations"
   ]
  },
  {
   "cell_type": "code",
   "execution_count": 25,
   "id": "548632fc",
   "metadata": {},
   "outputs": [
    {
     "name": "stdout",
     "output_type": "stream",
     "text": [
      "+-------+------------------+\n",
      "|movieId|            rating|\n",
      "+-------+------------------+\n",
      "| 144202| 6.240303993225098|\n",
      "| 169606| 6.034413814544678|\n",
      "| 185645| 5.671205520629883|\n",
      "| 194434|5.6255292892456055|\n",
      "| 203086| 5.592863082885742|\n",
      "+-------+------------------+\n",
      "\n"
     ]
    }
   ],
   "source": [
    "recs_df = spark.createDataFrame(movies_list)\n",
    "recs_df.show()"
   ]
  },
  {
   "cell_type": "code",
   "execution_count": 26,
   "id": "dfbe7b20",
   "metadata": {},
   "outputs": [],
   "source": [
    "movies_file = \"/Users/woals/data-engineering/01-spark/data/ml-25m/movies.csv\"\n",
    "movies_df = spark.read.csv(f\"file:///{movies_file}\", inferSchema=True, header=True)"
   ]
  },
  {
   "cell_type": "code",
   "execution_count": 27,
   "id": "b80a6765",
   "metadata": {},
   "outputs": [
    {
     "name": "stdout",
     "output_type": "stream",
     "text": [
      "+-------+--------------------+--------------------+\n",
      "|movieId|               title|              genres|\n",
      "+-------+--------------------+--------------------+\n",
      "|      1|    Toy Story (1995)|Adventure|Animati...|\n",
      "|      2|      Jumanji (1995)|Adventure|Childre...|\n",
      "|      3|Grumpier Old Men ...|      Comedy|Romance|\n",
      "|      4|Waiting to Exhale...|Comedy|Drama|Romance|\n",
      "|      5|Father of the Bri...|              Comedy|\n",
      "|      6|         Heat (1995)|Action|Crime|Thri...|\n",
      "|      7|      Sabrina (1995)|      Comedy|Romance|\n",
      "|      8| Tom and Huck (1995)|  Adventure|Children|\n",
      "|      9| Sudden Death (1995)|              Action|\n",
      "|     10|    GoldenEye (1995)|Action|Adventure|...|\n",
      "|     11|American Presiden...|Comedy|Drama|Romance|\n",
      "|     12|Dracula: Dead and...|       Comedy|Horror|\n",
      "|     13|        Balto (1995)|Adventure|Animati...|\n",
      "|     14|        Nixon (1995)|               Drama|\n",
      "|     15|Cutthroat Island ...|Action|Adventure|...|\n",
      "|     16|       Casino (1995)|         Crime|Drama|\n",
      "|     17|Sense and Sensibi...|       Drama|Romance|\n",
      "|     18|   Four Rooms (1995)|              Comedy|\n",
      "|     19|Ace Ventura: When...|              Comedy|\n",
      "|     20|  Money Train (1995)|Action|Comedy|Cri...|\n",
      "+-------+--------------------+--------------------+\n",
      "only showing top 20 rows\n",
      "\n"
     ]
    }
   ],
   "source": [
    "movies_df.show()"
   ]
  },
  {
   "cell_type": "code",
   "execution_count": 28,
   "id": "48f54a35",
   "metadata": {},
   "outputs": [],
   "source": [
    "recs_df.createOrReplaceTempView(\"recommendations\")\n",
    "movies_df.createOrReplaceTempView(\"movies\")"
   ]
  },
  {
   "cell_type": "code",
   "execution_count": 29,
   "id": "572d3752",
   "metadata": {},
   "outputs": [
    {
     "name": "stdout",
     "output_type": "stream",
     "text": [
      "+-------+--------------------+------------------+-------+------------------+\n",
      "|movieId|               title|            genres|movieId|            rating|\n",
      "+-------+--------------------+------------------+-------+------------------+\n",
      "| 144202|Catch That Girl (...|   Action|Children| 144202| 6.240303993225098|\n",
      "| 169606|Dara O'Briain Cro...|            Comedy| 169606| 6.034413814544678|\n",
      "| 185645|Stone Cold Steve ...|       Documentary| 185645| 5.671205520629883|\n",
      "| 194434|   Adrenaline (1990)|(no genres listed)| 194434|5.6255292892456055|\n",
      "| 203086|Truth and Justice...|             Drama| 203086| 5.592863082885742|\n",
      "+-------+--------------------+------------------+-------+------------------+\n",
      "\n"
     ]
    }
   ],
   "source": [
    "query = \"\"\"\n",
    "SELECT *\n",
    "FROM\n",
    "    movies JOIN recommendations\n",
    "    ON movies.movieId = recommendations.movieId\n",
    "ORDER BY\n",
    "    rating desc\n",
    "\"\"\"\n",
    "recommended_movies = spark.sql(query)\n",
    "recommended_movies.show()"
   ]
  },
  {
   "cell_type": "code",
   "execution_count": 30,
   "id": "8597a8c7",
   "metadata": {},
   "outputs": [],
   "source": [
    "def get_recommendations(user_id, num_recs):\n",
    "    users_df = spark.createDataFrame([user_id], IntegerType()).toDF('userId')\n",
    "    user_recs_df = model.recommendForUserSubset(users_df, num_recs)\n",
    "    \n",
    "    recs_list = user_recs_df.collect()[0].recommendations\n",
    "    recs_df = spark.createDataFrame(recs_list)\n",
    "    recommended_movies = spark.sql(query)\n",
    "    return recommended_movies"
   ]
  },
  {
   "cell_type": "code",
   "execution_count": 31,
   "id": "ae62aacf",
   "metadata": {},
   "outputs": [],
   "source": [
    "recs = get_recommendations(456, 10)"
   ]
  },
  {
   "cell_type": "code",
   "execution_count": 32,
   "id": "cf8140ed",
   "metadata": {},
   "outputs": [
    {
     "data": {
      "text/html": [
       "<div>\n",
       "<style scoped>\n",
       "    .dataframe tbody tr th:only-of-type {\n",
       "        vertical-align: middle;\n",
       "    }\n",
       "\n",
       "    .dataframe tbody tr th {\n",
       "        vertical-align: top;\n",
       "    }\n",
       "\n",
       "    .dataframe thead th {\n",
       "        text-align: right;\n",
       "    }\n",
       "</style>\n",
       "<table border=\"1\" class=\"dataframe\">\n",
       "  <thead>\n",
       "    <tr style=\"text-align: right;\">\n",
       "      <th></th>\n",
       "      <th>movieId</th>\n",
       "      <th>title</th>\n",
       "      <th>genres</th>\n",
       "      <th>movieId</th>\n",
       "      <th>rating</th>\n",
       "    </tr>\n",
       "  </thead>\n",
       "  <tbody>\n",
       "    <tr>\n",
       "      <th>0</th>\n",
       "      <td>144202</td>\n",
       "      <td>Catch That Girl (2002)</td>\n",
       "      <td>Action|Children</td>\n",
       "      <td>144202</td>\n",
       "      <td>6.240304</td>\n",
       "    </tr>\n",
       "    <tr>\n",
       "      <th>1</th>\n",
       "      <td>169606</td>\n",
       "      <td>Dara O'Briain Crowd Tickler (2015)</td>\n",
       "      <td>Comedy</td>\n",
       "      <td>169606</td>\n",
       "      <td>6.034414</td>\n",
       "    </tr>\n",
       "    <tr>\n",
       "      <th>2</th>\n",
       "      <td>185645</td>\n",
       "      <td>Stone Cold Steve Austin: The Bottom Line on th...</td>\n",
       "      <td>Documentary</td>\n",
       "      <td>185645</td>\n",
       "      <td>5.671206</td>\n",
       "    </tr>\n",
       "    <tr>\n",
       "      <th>3</th>\n",
       "      <td>194434</td>\n",
       "      <td>Adrenaline (1990)</td>\n",
       "      <td>(no genres listed)</td>\n",
       "      <td>194434</td>\n",
       "      <td>5.625529</td>\n",
       "    </tr>\n",
       "    <tr>\n",
       "      <th>4</th>\n",
       "      <td>203086</td>\n",
       "      <td>Truth and Justice (2019)</td>\n",
       "      <td>Drama</td>\n",
       "      <td>203086</td>\n",
       "      <td>5.592863</td>\n",
       "    </tr>\n",
       "  </tbody>\n",
       "</table>\n",
       "</div>"
      ],
      "text/plain": [
       "   movieId                                              title  \\\n",
       "0   144202                             Catch That Girl (2002)   \n",
       "1   169606                 Dara O'Briain Crowd Tickler (2015)   \n",
       "2   185645  Stone Cold Steve Austin: The Bottom Line on th...   \n",
       "3   194434                                  Adrenaline (1990)   \n",
       "4   203086                           Truth and Justice (2019)   \n",
       "\n",
       "               genres  movieId    rating  \n",
       "0     Action|Children   144202  6.240304  \n",
       "1              Comedy   169606  6.034414  \n",
       "2         Documentary   185645  5.671206  \n",
       "3  (no genres listed)   194434  5.625529  \n",
       "4               Drama   203086  5.592863  "
      ]
     },
     "execution_count": 32,
     "metadata": {},
     "output_type": "execute_result"
    }
   ],
   "source": [
    "recs.toPandas()"
   ]
  },
  {
   "cell_type": "code",
   "execution_count": 33,
   "id": "c6d6c990",
   "metadata": {},
   "outputs": [],
   "source": [
    "spark.stop()"
   ]
  },
  {
   "cell_type": "code",
   "execution_count": null,
   "id": "ddcb186a",
   "metadata": {},
   "outputs": [],
   "source": []
  }
 ],
 "metadata": {
  "kernelspec": {
   "display_name": "Python 3 (ipykernel)",
   "language": "python",
   "name": "python3"
  },
  "language_info": {
   "codemirror_mode": {
    "name": "ipython",
    "version": 3
   },
   "file_extension": ".py",
   "mimetype": "text/x-python",
   "name": "python",
   "nbconvert_exporter": "python",
   "pygments_lexer": "ipython3",
   "version": "3.8.16"
  }
 },
 "nbformat": 4,
 "nbformat_minor": 5
}
