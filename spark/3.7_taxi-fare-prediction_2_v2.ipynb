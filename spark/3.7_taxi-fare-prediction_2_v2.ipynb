{
 "cells": [
  {
   "cell_type": "code",
   "execution_count": 1,
   "id": "ecba548b",
   "metadata": {},
   "outputs": [],
   "source": [
    "from pyspark.sql import SparkSession"
   ]
  },
  {
   "cell_type": "code",
   "execution_count": 2,
   "id": "9f9d8597",
   "metadata": {},
   "outputs": [],
   "source": [
    "MAX_MEMORY = \"5g\"\n",
    "spark = SparkSession.builder.appName(\"taxi-duration-prediction-2\")\\\n",
    "            .config(\"spark.executor.memory\", MAX_MEMORY)\\\n",
    "            .config(\"spark.driver.memory\", MAX_MEMORY).getOrCreate()"
   ]
  },
  {
   "cell_type": "code",
   "execution_count": 3,
   "id": "2745af9a",
   "metadata": {},
   "outputs": [],
   "source": [
    "trip_files = \"/Users/woals/data-engineering/01-spark/data/trips/*\""
   ]
  },
  {
   "cell_type": "code",
   "execution_count": 4,
   "id": "701bee59",
   "metadata": {},
   "outputs": [],
   "source": [
    "trips_df = spark.read.csv(f\"file:///{trip_files}\", inferSchema=True, header=True)"
   ]
  },
  {
   "cell_type": "code",
   "execution_count": 5,
   "id": "9cb77c6b",
   "metadata": {},
   "outputs": [
    {
     "name": "stdout",
     "output_type": "stream",
     "text": [
      "root\n",
      " |-- _c0: integer (nullable = true)\n",
      " |-- VendorID: integer (nullable = true)\n",
      " |-- tpep_pickup_datetime: timestamp (nullable = true)\n",
      " |-- tpep_dropoff_datetime: timestamp (nullable = true)\n",
      " |-- passenger_count: double (nullable = true)\n",
      " |-- trip_distance: double (nullable = true)\n",
      " |-- RatecodeID: double (nullable = true)\n",
      " |-- store_and_fwd_flag: string (nullable = true)\n",
      " |-- PULocationID: integer (nullable = true)\n",
      " |-- DOLocationID: integer (nullable = true)\n",
      " |-- payment_type: integer (nullable = true)\n",
      " |-- fare_amount: double (nullable = true)\n",
      " |-- extra: double (nullable = true)\n",
      " |-- mta_tax: double (nullable = true)\n",
      " |-- tip_amount: double (nullable = true)\n",
      " |-- tolls_amount: double (nullable = true)\n",
      " |-- improvement_surcharge: double (nullable = true)\n",
      " |-- total_amount: double (nullable = true)\n",
      " |-- congestion_surcharge: double (nullable = true)\n",
      " |-- airport_fee: double (nullable = true)\n",
      "\n"
     ]
    }
   ],
   "source": [
    "trips_df.printSchema()"
   ]
  },
  {
   "cell_type": "code",
   "execution_count": 6,
   "id": "ba52ea97",
   "metadata": {},
   "outputs": [],
   "source": [
    "trips_df.createOrReplaceTempView(\"trips\")"
   ]
  },
  {
   "cell_type": "code",
   "execution_count": 7,
   "id": "5c365bae",
   "metadata": {},
   "outputs": [],
   "source": [
    "query = \"\"\"\n",
    "SELECT\n",
    "    passenger_count,\n",
    "    PULocationID as pickup_location_id,\n",
    "    DOLocationID as dropoff_location_id,\n",
    "    trip_distance,\n",
    "    HOUR(tpep_pickup_datetime) as pickup_time,\n",
    "    DATE_FORMAT(TO_DATE(tpep_pickup_datetime), 'EEEE') AS day_of_week,\n",
    "    total_amount\n",
    "FROM\n",
    "    (SELECT\n",
    "        *,\n",
    "        TO_DATE(t.tpep_pickup_datetime) AS pickup_date\n",
    "    FROM\n",
    "        trips t)\n",
    "WHERE\n",
    "    total_amount < 5000\n",
    "    AND total_amount > 0\n",
    "    AND trip_distance > 0\n",
    "    AND trip_distance < 500\n",
    "    AND passenger_count < 4\n",
    "    AND pickup_date >= '2021-01-01'\n",
    "    AND pickup_date < '2021-12-01'\n",
    "\"\"\"\n",
    "data_df = spark.sql(query)\n",
    "data_df.createOrReplaceTempView(\"data\")"
   ]
  },
  {
   "cell_type": "code",
   "execution_count": 8,
   "id": "60163021",
   "metadata": {},
   "outputs": [
    {
     "name": "stdout",
     "output_type": "stream",
     "text": [
      "root\n",
      " |-- passenger_count: double (nullable = true)\n",
      " |-- pickup_location_id: integer (nullable = true)\n",
      " |-- dropoff_location_id: integer (nullable = true)\n",
      " |-- trip_distance: double (nullable = true)\n",
      " |-- pickup_time: integer (nullable = true)\n",
      " |-- day_of_week: string (nullable = true)\n",
      " |-- total_amount: double (nullable = true)\n",
      "\n"
     ]
    }
   ],
   "source": [
    "data_df.printSchema()"
   ]
  },
  {
   "cell_type": "code",
   "execution_count": 9,
   "id": "c4023245",
   "metadata": {},
   "outputs": [
    {
     "name": "stdout",
     "output_type": "stream",
     "text": [
      "+-------+------------------+------------------+------------------+-----------+\n",
      "|summary|   passenger_count|     trip_distance|       pickup_time|day_of_week|\n",
      "+-------+------------------+------------------+------------------+-----------+\n",
      "|  count|          24405049|          24405049|          24405049|   24405049|\n",
      "|   mean| 1.217503066680997|3.0594232791747196|14.199043853589476|       null|\n",
      "| stddev|0.5495874147034774| 4.080585476765442| 5.373144900705152|       null|\n",
      "|    min|               0.0|              0.01|                 0|     Friday|\n",
      "|    max|               3.0|             482.1|                23|  Wednesday|\n",
      "+-------+------------------+------------------+------------------+-----------+\n",
      "\n"
     ]
    }
   ],
   "source": [
    "data_df.select([\"passenger_count\", \"trip_distance\", \"pickup_time\", \"day_of_week\"]).describe().show()"
   ]
  },
  {
   "cell_type": "code",
   "execution_count": 10,
   "id": "9e44e8b6",
   "metadata": {},
   "outputs": [
    {
     "name": "stdout",
     "output_type": "stream",
     "text": [
      "19522070\n",
      "4882979\n"
     ]
    }
   ],
   "source": [
    "train_df, test_df = data_df.randomSplit([0.8, 0.2], seed=1)\n",
    "print(train_df.count())\n",
    "print(test_df.count())"
   ]
  },
  {
   "cell_type": "code",
   "execution_count": 11,
   "id": "9eea2a6d",
   "metadata": {},
   "outputs": [],
   "source": [
    "toy_df = train_df.sample(False, .1, seed=261)"
   ]
  },
  {
   "cell_type": "code",
   "execution_count": 12,
   "id": "4264f9e1",
   "metadata": {},
   "outputs": [],
   "source": [
    "data_dir = \"/Users/woals/data-engineering/01-spark/data\""
   ]
  },
  {
   "cell_type": "code",
   "execution_count": 13,
   "id": "20e449d1",
   "metadata": {},
   "outputs": [],
   "source": [
    "# 컬럼 기반 포멧 parquet로 저장.. 압축률이 좋고 disk io가 적다 컬럼별로 적절한 인코딩이 가능\n",
    "\n",
    "train_df.write.format(\"parquet\").save(f\"{data_dir}/train/\")\n",
    "test_df.write.format(\"parquet\").save(f\"{data_dir}/test/\")\n",
    "toy_df.write.format(\"parquet\").save(f\"{data_dir}/toy/\")"
   ]
  },
  {
   "cell_type": "code",
   "execution_count": 14,
   "id": "bb563660",
   "metadata": {},
   "outputs": [],
   "source": [
    "# 다시 읽어오기\n",
    "train_df = spark.read.parquet(f\"{data_dir}/train/\")\n",
    "test_df = spark.read.parquet(f\"{data_dir}/test/\")\n",
    "toy_df = spark.read.parquet(f\"{data_dir}/toy/\")"
   ]
  },
  {
   "cell_type": "code",
   "execution_count": 15,
   "id": "13a87656",
   "metadata": {},
   "outputs": [
    {
     "name": "stdout",
     "output_type": "stream",
     "text": [
      "root\n",
      " |-- passenger_count: double (nullable = true)\n",
      " |-- pickup_location_id: integer (nullable = true)\n",
      " |-- dropoff_location_id: integer (nullable = true)\n",
      " |-- trip_distance: double (nullable = true)\n",
      " |-- pickup_time: integer (nullable = true)\n",
      " |-- day_of_week: string (nullable = true)\n",
      " |-- total_amount: double (nullable = true)\n",
      "\n"
     ]
    }
   ],
   "source": [
    "train_df.printSchema()"
   ]
  },
  {
   "cell_type": "code",
   "execution_count": 16,
   "id": "89ce77c7",
   "metadata": {},
   "outputs": [],
   "source": [
    "\n",
    "from pyspark.ml.feature import OneHotEncoder, StringIndexer\n",
    "\n",
    "# 카테고리 피쳐들\n",
    "cat_feats = [\n",
    "    \"pickup_location_id\",\n",
    "    \"dropoff_location_id\",\n",
    "    \"day_of_week\",\n",
    "    \"pickup_time\",\n",
    "]\n",
    "\n",
    "# 파이프라인 스테이지\n",
    "stages = []\n",
    "\n",
    "# 카테고리 피쳐 프리프로세싱\n",
    "for c in cat_feats:\n",
    "    # c -> c_idx\n",
    "    cat_indexer = StringIndexer(inputCol = c, outputCol = c + \"_idx\").setHandleInvalid(\"keep\")\n",
    "    # one hot encode \n",
    "    onehot_encoder = OneHotEncoder(inputCols = [cat_indexer.getOutputCol()], outputCols = [c + \"_onehot\"])\n",
    "    stages += [cat_indexer, onehot_encoder]"
   ]
  },
  {
   "cell_type": "code",
   "execution_count": 17,
   "id": "51a1a8f5",
   "metadata": {},
   "outputs": [],
   "source": [
    "# Feature Normalization\n",
    "from pyspark.ml.feature import VectorAssembler, StandardScaler\n",
    "\n",
    "# Numerical features\n",
    "num_feats = [\n",
    "    \"passenger_count\",\n",
    "    \"trip_distance\"\n",
    "]\n",
    "\n",
    "# vector assembler\n",
    "for n in num_feats:\n",
    "    num_assembler = VectorAssembler(inputCols=[n], outputCol = n + \"_vector\")\n",
    "    num_scaler = StandardScaler(inputCol = num_assembler.getOutputCol(), outputCol = n + \"_scaled\")\n",
    "    stages += [num_assembler, num_scaler]"
   ]
  },
  {
   "cell_type": "code",
   "execution_count": 18,
   "id": "6a25b3d6",
   "metadata": {},
   "outputs": [],
   "source": [
    "# Categorical + Numeric featurees\n",
    "assembler_inputs = [c + \"_onehot\" for c in cat_feats] + [n + \"_scaled\" for n in num_feats]\n",
    "assembler = VectorAssembler(inputCols=assembler_inputs, outputCol=\"feature_vector\")\n",
    "stages += [assembler]"
   ]
  },
  {
   "cell_type": "code",
   "execution_count": 19,
   "id": "f12cdfc8",
   "metadata": {},
   "outputs": [],
   "source": [
    "from pyspark.ml import Pipeline\n",
    "# add model into the stages\n",
    "transform_stages = stages\n",
    "\n",
    "# Construct pipeline using the set of stages defined\n",
    "pipeline =  Pipeline(stages=transform_stages)\n",
    "\n",
    "# Fit the transformer\n",
    "fitted_transformer = pipeline.fit(train_df)"
   ]
  },
  {
   "cell_type": "code",
   "execution_count": 20,
   "id": "f94e46f2",
   "metadata": {},
   "outputs": [],
   "source": [
    "# Transform the train data\n",
    "transformed_train_df = fitted_transformer.transform(train_df)\n",
    "# transformed_train_df = transformed_train_df.cache()"
   ]
  },
  {
   "cell_type": "code",
   "execution_count": 23,
   "id": "6dcdd1f9",
   "metadata": {},
   "outputs": [
    {
     "name": "stdout",
     "output_type": "stream",
     "text": [
      "root\n",
      " |-- passenger_count: double (nullable = true)\n",
      " |-- pickup_location_id: integer (nullable = true)\n",
      " |-- dropoff_location_id: integer (nullable = true)\n",
      " |-- trip_distance: double (nullable = true)\n",
      " |-- pickup_time: integer (nullable = true)\n",
      " |-- day_of_week: string (nullable = true)\n",
      " |-- total_amount: double (nullable = true)\n",
      " |-- pickup_location_id_idx: double (nullable = false)\n",
      " |-- pickup_location_id_onehot: vector (nullable = true)\n",
      " |-- dropoff_location_id_idx: double (nullable = false)\n",
      " |-- dropoff_location_id_onehot: vector (nullable = true)\n",
      " |-- day_of_week_idx: double (nullable = false)\n",
      " |-- day_of_week_onehot: vector (nullable = true)\n",
      " |-- pickup_time_idx: double (nullable = false)\n",
      " |-- pickup_time_onehot: vector (nullable = true)\n",
      " |-- passenger_count_vector: vector (nullable = true)\n",
      " |-- passenger_count_scaled: vector (nullable = true)\n",
      " |-- trip_distance_vector: vector (nullable = true)\n",
      " |-- trip_distance_scaled: vector (nullable = true)\n",
      " |-- feature_vector: vector (nullable = true)\n",
      "\n"
     ]
    }
   ],
   "source": [
    "transformed_train_df.printSchema()"
   ]
  },
  {
   "cell_type": "code",
   "execution_count": 21,
   "id": "00dd87bb",
   "metadata": {},
   "outputs": [],
   "source": [
    "from pyspark.ml.regression import LinearRegression\n",
    "lr = LinearRegression(maxIter = 100, \n",
    "                         solver = \"normal\", \n",
    "                         labelCol = \"total_amount\",\n",
    "                         featuresCol = \"feature_vector\",\n",
    "                        )"
   ]
  },
  {
   "cell_type": "code",
   "execution_count": 22,
   "id": "69c51934",
   "metadata": {},
   "outputs": [],
   "source": [
    "model = lr.fit(transformed_train_df)"
   ]
  },
  {
   "cell_type": "code",
   "execution_count": 24,
   "id": "7c457bea",
   "metadata": {},
   "outputs": [],
   "source": [
    "from pyspark.ml.evaluation import RegressionEvaluator"
   ]
  },
  {
   "cell_type": "code",
   "execution_count": 25,
   "id": "46aa3a3e",
   "metadata": {},
   "outputs": [],
   "source": [
    "transformed_test_df = fitted_transformer.transform(test_df)"
   ]
  },
  {
   "cell_type": "code",
   "execution_count": 26,
   "id": "327e1f6a",
   "metadata": {},
   "outputs": [],
   "source": [
    "predictions = model.transform(transformed_test_df).cache()"
   ]
  },
  {
   "cell_type": "code",
   "execution_count": 27,
   "id": "627c4ade",
   "metadata": {},
   "outputs": [
    {
     "name": "stdout",
     "output_type": "stream",
     "text": [
      "+---------------+------------------+-------------------+-------------+-----------+-----------+------------+----------------------+-------------------------+-----------------------+--------------------------+---------------+------------------+---------------+------------------+----------------------+----------------------+--------------------+--------------------+--------------------+------------------+\n",
      "|passenger_count|pickup_location_id|dropoff_location_id|trip_distance|pickup_time|day_of_week|total_amount|pickup_location_id_idx|pickup_location_id_onehot|dropoff_location_id_idx|dropoff_location_id_onehot|day_of_week_idx|day_of_week_onehot|pickup_time_idx|pickup_time_onehot|passenger_count_vector|passenger_count_scaled|trip_distance_vector|trip_distance_scaled|      feature_vector|        prediction|\n",
      "+---------------+------------------+-------------------+-------------+-----------+-----------+------------+----------------------+-------------------------+-----------------------+--------------------------+---------------+------------------+---------------+------------------+----------------------+----------------------+--------------------+--------------------+--------------------+------------------+\n",
      "|            0.0|                 4|                 48|          4.1|         22|   Saturday|        20.3|                  61.0|         (263,[61],[1.0])|                    9.0|           (261,[9],[1.0])|            4.0|     (7,[4],[1.0])|           13.0|   (24,[13],[1.0])|                 [0.0]|                 [0.0]|               [4.1]|[1.0037543695897695]|(557,[61,272,528,...|20.473947216522323|\n",
      "|            0.0|                 4|                 79|          0.7|         23|     Friday|        10.3|                  61.0|         (263,[61],[1.0])|                   17.0|          (261,[17],[1.0])|            0.0|     (7,[0],[1.0])|           15.0|   (24,[15],[1.0])|                 [0.0]|                 [0.0]|               [0.7]|[0.17137269724703...|(557,[61,280,524,...|12.777826308250683|\n",
      "|            0.0|                 4|                148|          0.7|          0|     Sunday|       11.75|                  61.0|         (263,[61],[1.0])|                   38.0|          (261,[38],[1.0])|            6.0|     (7,[6],[1.0])|           17.0|   (24,[17],[1.0])|                 [0.0]|                 [0.0]|               [0.7]|[0.17137269724703...|(557,[61,301,530,...| 12.54739073620915|\n",
      "|            0.0|                 4|                164|          2.8|         15|    Tuesday|        19.3|                  61.0|         (263,[61],[1.0])|                   20.0|          (261,[20],[1.0])|            3.0|     (7,[3],[1.0])|            2.0|    (24,[2],[1.0])|                 [0.0]|                 [0.0]|               [2.8]|[0.6854907889881353]|(557,[61,283,527,...|18.458986070834662|\n",
      "|            0.0|                 4|                186|          2.9|         10|  Wednesday|       22.85|                  61.0|         (263,[61],[1.0])|                   16.0|          (261,[16],[1.0])|            2.0|     (7,[2],[1.0])|           10.0|   (24,[10],[1.0])|                 [0.0]|                 [0.0]|               [2.9]|[0.7099726028805687]|(557,[61,279,526,...|18.031107529923403|\n",
      "|            0.0|                 4|                186|          3.0|          8|     Sunday|        14.8|                  61.0|         (263,[61],[1.0])|                   16.0|          (261,[16],[1.0])|            6.0|     (7,[6],[1.0])|           14.0|   (24,[14],[1.0])|                 [0.0]|                 [0.0]|               [3.0]|[0.7344544167730022]|(557,[61,279,530,...| 17.19795473960268|\n",
      "|            0.0|                 4|                232|          1.1|         17|     Friday|        12.8|                  61.0|         (263,[61],[1.0])|                   47.0|          (261,[47],[1.0])|            0.0|     (7,[0],[1.0])|            1.0|    (24,[1],[1.0])|                 [0.0]|                 [0.0]|               [1.1]|[0.2692999528167675]|(557,[61,310,524,...|15.421434340888897|\n",
      "|            0.0|                 4|                263|          4.0|         14|   Saturday|       20.75|                  61.0|         (263,[61],[1.0])|                   11.0|          (261,[11],[1.0])|            4.0|     (7,[4],[1.0])|            3.0|    (24,[3],[1.0])|                 [0.0]|                 [0.0]|               [4.0]|[0.9792725556973362]|(557,[61,274,528,...|20.197069775102435|\n",
      "|            0.0|                 7|                  7|          1.0|         12|  Wednesday|         7.3|                  64.0|         (263,[64],[1.0])|                   56.0|          (261,[56],[1.0])|            2.0|     (7,[2],[1.0])|            7.0|    (24,[7],[1.0])|                 [0.0]|                 [0.0]|               [1.0]|[0.24481813892433...|(557,[64,319,526,...|11.264536031985918|\n",
      "|            0.0|                 7|                107|          4.4|         13|     Friday|        21.3|                  64.0|         (263,[64],[1.0])|                   18.0|          (261,[18],[1.0])|            0.0|     (7,[0],[1.0])|            6.0|    (24,[6],[1.0])|                 [0.0]|                 [0.0]|               [4.4]|  [1.07719981126707]|(557,[64,281,524,...| 19.97794167743662|\n",
      "|            0.0|                 7|                145|          3.1|         15|   Thursday|        13.8|                  64.0|         (263,[64],[1.0])|                   60.0|          (261,[60],[1.0])|            1.0|     (7,[1],[1.0])|            2.0|    (24,[2],[1.0])|                 [0.0]|                 [0.0]|               [3.1]|[0.7589362306654356]|(557,[64,323,525,...|18.500146808893543|\n",
      "|            0.0|                 7|                226|          2.0|         15|     Friday|        11.8|                  64.0|         (263,[64],[1.0])|                   67.0|          (261,[67],[1.0])|            0.0|     (7,[0],[1.0])|            2.0|    (24,[2],[1.0])|                 [0.0]|                 [0.0]|               [2.0]|[0.4896362778486681]|(557,[64,330,524,...|14.470407903409757|\n",
      "|            0.0|                10|                 79|         15.1|         16|   Thursday|        74.7|                  81.0|         (263,[81],[1.0])|                   17.0|          (261,[17],[1.0])|            1.0|     (7,[1],[1.0])|            4.0|    (24,[4],[1.0])|                 [0.0]|                 [0.0]|              [15.1]| [3.696753897757444]|(557,[81,280,525,...| 69.28711523709701|\n",
      "|            0.0|                10|                265|         35.7|         23|   Thursday|       168.6|                  81.0|         (263,[81],[1.0])|                   59.0|          (261,[59],[1.0])|            1.0|     (7,[1],[1.0])|           15.0|   (24,[15],[1.0])|                 [0.0]|                 [0.0]|              [35.7]| [8.740007559598727]|(557,[81,322,525,...|143.22378784652378|\n",
      "|            0.0|                12|                 48|         6.45|         15|   Saturday|        28.3|                  70.0|         (263,[70],[1.0])|                    9.0|           (261,[9],[1.0])|            4.0|     (7,[4],[1.0])|            2.0|    (24,[2],[1.0])|                 [0.0]|                 [0.0]|              [6.45]|[1.5790769960619546]|(557,[70,272,528,...|27.128509711481286|\n",
      "|            0.0|                12|                232|          2.3|         13|     Friday|        13.8|                  70.0|         (263,[70],[1.0])|                   47.0|          (261,[47],[1.0])|            0.0|     (7,[0],[1.0])|            6.0|    (24,[6],[1.0])|                 [0.0]|                 [0.0]|               [2.3]|[0.5630817195259683]|(557,[70,310,524,...| 17.40125314805587|\n",
      "|            0.0|                12|                237|          7.5|         14|     Sunday|       35.35|                  70.0|         (263,[70],[1.0])|                    1.0|           (261,[1],[1.0])|            6.0|     (7,[6],[1.0])|            3.0|    (24,[3],[1.0])|                 [0.0]|                 [0.0]|               [7.5]|[1.8361360419325052]|(557,[70,264,530,...|28.679222572929454|\n",
      "|            0.0|                12|                261|          1.0|         12|   Saturday|       12.25|                  70.0|         (263,[70],[1.0])|                   55.0|          (261,[55],[1.0])|            4.0|     (7,[4],[1.0])|            7.0|    (24,[7],[1.0])|                 [0.0]|                 [0.0]|               [1.0]|[0.24481813892433...|(557,[70,318,528,...|14.279891577809703|\n",
      "|            0.0|                13|                  1|         13.6|         11|   Thursday|       83.45|                  44.0|         (263,[44],[1.0])|                   74.0|          (261,[74],[1.0])|            1.0|     (7,[1],[1.0])|            8.0|    (24,[8],[1.0])|                 [0.0]|                 [0.0]|              [13.6]| [3.329526689370943]|(557,[44,337,525,...|  89.0705485204992|\n",
      "|            0.0|                13|                 12|          0.6|          7|     Friday|        9.35|                  44.0|         (263,[44],[1.0])|                  110.0|         (261,[110],[1.0])|            0.0|     (7,[0],[1.0])|           16.0|   (24,[16],[1.0])|                 [0.0]|                 [0.0]|               [0.6]|[0.14689088335460...|(557,[44,373,524,...|13.060625062488427|\n",
      "+---------------+------------------+-------------------+-------------+-----------+-----------+------------+----------------------+-------------------------+-----------------------+--------------------------+---------------+------------------+---------------+------------------+----------------------+----------------------+--------------------+--------------------+--------------------+------------------+\n",
      "only showing top 20 rows\n",
      "\n"
     ]
    }
   ],
   "source": [
    "predictions.show()"
   ]
  },
  {
   "cell_type": "code",
   "execution_count": 28,
   "id": "fb58163d",
   "metadata": {},
   "outputs": [
    {
     "name": "stdout",
     "output_type": "stream",
     "text": [
      "+-------------+-----------+------------+------------------+\n",
      "|trip_distance|day_of_week|total_amount|        prediction|\n",
      "+-------------+-----------+------------+------------------+\n",
      "|          4.1|   Saturday|        20.3|20.473947216522323|\n",
      "|          0.7|     Friday|        10.3|12.777826308250683|\n",
      "|          0.7|     Sunday|       11.75| 12.54739073620915|\n",
      "|          2.8|    Tuesday|        19.3|18.458986070834662|\n",
      "|          2.9|  Wednesday|       22.85|18.031107529923403|\n",
      "|          3.0|     Sunday|        14.8| 17.19795473960268|\n",
      "|          1.1|     Friday|        12.8|15.421434340888897|\n",
      "|          4.0|   Saturday|       20.75|20.197069775102435|\n",
      "|          1.0|  Wednesday|         7.3|11.264536031985918|\n",
      "|          4.4|     Friday|        21.3| 19.97794167743662|\n",
      "|          3.1|   Thursday|        13.8|18.500146808893543|\n",
      "|          2.0|     Friday|        11.8|14.470407903409757|\n",
      "|         15.1|   Thursday|        74.7| 69.28711523709701|\n",
      "|         35.7|   Thursday|       168.6|143.22378784652378|\n",
      "|         6.45|   Saturday|        28.3|27.128509711481286|\n",
      "|          2.3|     Friday|        13.8| 17.40125314805587|\n",
      "|          7.5|     Sunday|       35.35|28.679222572929454|\n",
      "|          1.0|   Saturday|       12.25|14.279891577809703|\n",
      "|         13.6|   Thursday|       83.45|  89.0705485204992|\n",
      "|          0.6|     Friday|        9.35|13.060625062488427|\n",
      "+-------------+-----------+------------+------------------+\n",
      "only showing top 20 rows\n",
      "\n"
     ]
    }
   ],
   "source": [
    "predictions.select([\"trip_distance\", \"day_of_week\", \"total_amount\", \"prediction\"]).show()"
   ]
  },
  {
   "cell_type": "code",
   "execution_count": 29,
   "id": "59e55bd7",
   "metadata": {},
   "outputs": [],
   "source": [
    "from pyspark.sql.types import DoubleType\n",
    "distance_list = [1.1, 5.5, 10.5, 30.0]\n",
    "distances_df = spark.createDataFrame(distance_list, DoubleType()).toDF(\"trip_distance\")"
   ]
  },
  {
   "cell_type": "code",
   "execution_count": 30,
   "id": "8cc43781",
   "metadata": {},
   "outputs": [
    {
     "name": "stdout",
     "output_type": "stream",
     "text": [
      "+-------------+\n",
      "|trip_distance|\n",
      "+-------------+\n",
      "|          1.1|\n",
      "|          5.5|\n",
      "|         10.5|\n",
      "|         30.0|\n",
      "+-------------+\n",
      "\n"
     ]
    }
   ],
   "source": [
    "distances_df.show()"
   ]
  },
  {
   "cell_type": "code",
   "execution_count": 31,
   "id": "9fd9f711",
   "metadata": {},
   "outputs": [
    {
     "ename": "NameError",
     "evalue": "name 'vassembler' is not defined",
     "output_type": "error",
     "traceback": [
      "\u001b[1;31m---------------------------------------------------------------------------\u001b[0m",
      "\u001b[1;31mNameError\u001b[0m                                 Traceback (most recent call last)",
      "Cell \u001b[1;32mIn[31], line 1\u001b[0m\n\u001b[1;32m----> 1\u001b[0m vdistances_df \u001b[38;5;241m=\u001b[39m \u001b[43mvassembler\u001b[49m\u001b[38;5;241m.\u001b[39mtransform(distances_df)\n",
      "\u001b[1;31mNameError\u001b[0m: name 'vassembler' is not defined"
     ]
    }
   ],
   "source": [
    "vdistances_df = vassembler.transform(distances_df)"
   ]
  },
  {
   "cell_type": "code",
   "execution_count": null,
   "id": "170e874e",
   "metadata": {},
   "outputs": [],
   "source": [
    "vdistances_df.show()"
   ]
  },
  {
   "cell_type": "code",
   "execution_count": null,
   "id": "75e1ab0d",
   "metadata": {},
   "outputs": [],
   "source": [
    "model.transform(vdistances_df).show()"
   ]
  },
  {
   "cell_type": "markdown",
   "id": "fe3ccd89",
   "metadata": {},
   "source": [
    "# 성능 평가"
   ]
  },
  {
   "cell_type": "code",
   "execution_count": null,
   "id": "859f2b7e",
   "metadata": {},
   "outputs": [],
   "source": [
    "model.summary"
   ]
  },
  {
   "cell_type": "code",
   "execution_count": null,
   "id": "ee6b0957",
   "metadata": {},
   "outputs": [],
   "source": [
    "print(\"RMSE: \", model.summary.rootMeanSquaredError)"
   ]
  },
  {
   "cell_type": "code",
   "execution_count": null,
   "id": "78e1580c",
   "metadata": {},
   "outputs": [],
   "source": [
    "print(\"R2: \", model.summary.r2)\n",
    "# R2:  0.018565176935511962"
   ]
  },
  {
   "cell_type": "code",
   "execution_count": null,
   "id": "01dc1ed6",
   "metadata": {},
   "outputs": [],
   "source": [
    "train_df.describe().show()"
   ]
  },
  {
   "cell_type": "code",
   "execution_count": null,
   "id": "d0bc1254",
   "metadata": {},
   "outputs": [],
   "source": []
  }
 ],
 "metadata": {
  "kernelspec": {
   "display_name": "Python 3 (ipykernel)",
   "language": "python",
   "name": "python3"
  },
  "language_info": {
   "codemirror_mode": {
    "name": "ipython",
    "version": 3
   },
   "file_extension": ".py",
   "mimetype": "text/x-python",
   "name": "python",
   "nbconvert_exporter": "python",
   "pygments_lexer": "ipython3",
   "version": "3.8.16"
  }
 },
 "nbformat": 4,
 "nbformat_minor": 5
}
