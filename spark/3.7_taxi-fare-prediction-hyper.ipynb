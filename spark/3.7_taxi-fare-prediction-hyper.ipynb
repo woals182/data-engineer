{
 "cells": [
  {
   "cell_type": "code",
   "execution_count": 2,
   "id": "6c89f375",
   "metadata": {},
   "outputs": [],
   "source": [
    "from pyspark.sql import SparkSession"
   ]
  },
  {
   "cell_type": "code",
   "execution_count": 3,
   "id": "14ef5549",
   "metadata": {},
   "outputs": [],
   "source": [
    "MAX_MEMORY=\"5g\"\n",
    "spark = SparkSession.builder.appName(\"taxi-fare-prediciton\")\\\n",
    "                .config(\"spark.executor.memory\", MAX_MEMORY)\\\n",
    "                .config(\"spark.driver.memory\", MAX_MEMORY)\\\n",
    "                .getOrCreate()"
   ]
  },
  {
   "cell_type": "code",
   "execution_count": 4,
   "id": "1a308b57",
   "metadata": {},
   "outputs": [],
   "source": [
    "data_dir = \"/Users/woals/data-engineering/01-spark/data/\""
   ]
  },
  {
   "cell_type": "code",
   "execution_count": 5,
   "id": "193f3160",
   "metadata": {},
   "outputs": [],
   "source": [
    "train_df = spark.read.parquet(f\"{data_dir}/train/\")\n",
    "test_df = spark.read.parquet(f\"{data_dir}/test/\")"
   ]
  },
  {
   "cell_type": "code",
   "execution_count": 6,
   "id": "f1f7037c",
   "metadata": {},
   "outputs": [],
   "source": [
    "toy_df = train_df.sample(False, 0.1, seed=1)"
   ]
  },
  {
   "cell_type": "code",
   "execution_count": 7,
   "id": "7b1499b7",
   "metadata": {},
   "outputs": [
    {
     "name": "stdout",
     "output_type": "stream",
     "text": [
      "root\n",
      " |-- passenger_count: double (nullable = true)\n",
      " |-- pickup_location_id: integer (nullable = true)\n",
      " |-- dropoff_location_id: integer (nullable = true)\n",
      " |-- trip_distance: double (nullable = true)\n",
      " |-- pickup_time: integer (nullable = true)\n",
      " |-- day_of_week: string (nullable = true)\n",
      " |-- total_amount: double (nullable = true)\n",
      "\n"
     ]
    }
   ],
   "source": [
    "toy_df.printSchema()"
   ]
  },
  {
   "cell_type": "code",
   "execution_count": 8,
   "id": "b197ea72",
   "metadata": {},
   "outputs": [],
   "source": [
    "from pyspark.ml.feature import OneHotEncoder, StringIndexer\n",
    "\n",
    "cat_feats = [\n",
    "    \"pickup_location_id\",\n",
    "    \"dropoff_location_id\",\n",
    "    \"day_of_week\"\n",
    "]\n",
    "\n",
    "stages = []\n",
    "\n",
    "for c in cat_feats:\n",
    "    cat_indexer = StringIndexer(inputCol=c, outputCol= c + \"_idx\").setHandleInvalid(\"keep\")\n",
    "    onehot_encoder = OneHotEncoder(inputCols=[cat_indexer.getOutputCol()], outputCols=[c + \"_onehot\"])\n",
    "    stages += [cat_indexer, onehot_encoder]"
   ]
  },
  {
   "cell_type": "code",
   "execution_count": 9,
   "id": "b3d1a552",
   "metadata": {},
   "outputs": [],
   "source": [
    "from pyspark.ml.feature import VectorAssembler, StandardScaler\n",
    "\n",
    "num_feats = [\n",
    "    \"passenger_count\",\n",
    "    \"trip_distance\",\n",
    "    \"pickup_time\"\n",
    "]\n",
    "\n",
    "for n in num_feats:\n",
    "    num_assembler = VectorAssembler(inputCols=[n], outputCol= n + \"_vecotr\")\n",
    "    num_scaler = StandardScaler(inputCol=num_assembler.getOutputCol(), outputCol= n + \"_scaled\")\n",
    "    stages += [num_assembler, num_scaler]"
   ]
  },
  {
   "cell_type": "code",
   "execution_count": 10,
   "id": "6c9e35cd",
   "metadata": {},
   "outputs": [],
   "source": [
    "assembler_inputs = [c + \"_onehot\" for c in cat_feats] + [n + \"_scaled\" for n in num_feats]\n",
    "assembler = VectorAssembler(inputCols=assembler_inputs, outputCol=\"feature_vector\")\n",
    "stages += [assembler]"
   ]
  },
  {
   "cell_type": "markdown",
   "id": "f144a456",
   "metadata": {},
   "source": [
    "## Hyperparameter Tuning"
   ]
  },
  {
   "cell_type": "code",
   "execution_count": 11,
   "id": "4abb1bfc",
   "metadata": {},
   "outputs": [],
   "source": [
    "from pyspark.ml import Pipeline\n",
    "from pyspark.ml.regression import LinearRegression\n",
    "from pyspark.ml.tuning import CrossValidator, ParamGridBuilder\n",
    "from pyspark.ml.evaluation import RegressionEvaluator\n",
    "\n",
    "lr = LinearRegression(\n",
    "    maxIter = 50,\n",
    "    solver = \"normal\",\n",
    "    labelCol = 'total_amount',\n",
    "    featuresCol = 'feature_vector'\n",
    ")\n",
    "\n",
    "cv_stages = stages + [lr]"
   ]
  },
  {
   "cell_type": "code",
   "execution_count": 12,
   "id": "9e243aaf",
   "metadata": {},
   "outputs": [],
   "source": [
    "cv_pipeline = Pipeline(stages=cv_stages)"
   ]
  },
  {
   "cell_type": "code",
   "execution_count": 13,
   "id": "4401c160",
   "metadata": {},
   "outputs": [],
   "source": [
    "param_grid = ParamGridBuilder()\\\n",
    "                .addGrid(lr.elasticNetParam, [0.1, 0.2, 0.3, 0.4, 0.5])\\\n",
    "                .addGrid(lr.regParam, [0.01, 0.02, 0.03, 0.04, 0.05])\\\n",
    "                .build()"
   ]
  },
  {
   "cell_type": "code",
   "execution_count": 14,
   "id": "3575a425",
   "metadata": {},
   "outputs": [],
   "source": [
    "cross_val = CrossValidator(estimator=cv_pipeline,\n",
    "                           estimatorParamMaps=param_grid,\n",
    "                           evaluator=RegressionEvaluator(labelCol=\"total_amount\"),\n",
    "                           numFolds=5)"
   ]
  },
  {
   "cell_type": "code",
   "execution_count": 15,
   "id": "f68456da",
   "metadata": {},
   "outputs": [],
   "source": [
    "cv_model = cross_val.fit(toy_df)"
   ]
  },
  {
   "cell_type": "code",
   "execution_count": 16,
   "id": "493a7a7e",
   "metadata": {},
   "outputs": [],
   "source": [
    "alpha = cv_model.bestModel.stages[-1]._java_obj.getElasticNetParam()\n",
    "reg_param = cv_model.bestModel.stages[-1]._java_obj.getRegParam()"
   ]
  },
  {
   "cell_type": "markdown",
   "id": "118d509c",
   "metadata": {},
   "source": [
    "## Training"
   ]
  },
  {
   "cell_type": "code",
   "execution_count": 17,
   "id": "39b44e01",
   "metadata": {},
   "outputs": [],
   "source": [
    "transform_stages = stages\n",
    "pipeline = Pipeline(stages=transform_stages)\n",
    "fitted_transformer = pipeline.fit(train_df)"
   ]
  },
  {
   "cell_type": "code",
   "execution_count": 18,
   "id": "5d965a6d",
   "metadata": {},
   "outputs": [],
   "source": [
    "vtrain_df = fitted_transformer.transform(train_df)"
   ]
  },
  {
   "cell_type": "code",
   "execution_count": 19,
   "id": "450a8e37",
   "metadata": {},
   "outputs": [],
   "source": [
    "lr = LinearRegression(\n",
    "    maxIter = 50,\n",
    "    solver = \"normal\",\n",
    "    labelCol = \"total_amount\",\n",
    "    featuresCol = \"feature_vector\",\n",
    "    elasticNetParam = alpha,\n",
    "    regParam = reg_param\n",
    ")"
   ]
  },
  {
   "cell_type": "code",
   "execution_count": 20,
   "id": "4265a9b3",
   "metadata": {},
   "outputs": [
    {
     "name": "stdout",
     "output_type": "stream",
     "text": [
      "root\n",
      " |-- passenger_count: double (nullable = true)\n",
      " |-- pickup_location_id: integer (nullable = true)\n",
      " |-- dropoff_location_id: integer (nullable = true)\n",
      " |-- trip_distance: double (nullable = true)\n",
      " |-- pickup_time: integer (nullable = true)\n",
      " |-- day_of_week: string (nullable = true)\n",
      " |-- total_amount: double (nullable = true)\n",
      " |-- pickup_location_id_idx: double (nullable = false)\n",
      " |-- pickup_location_id_onehot: vector (nullable = true)\n",
      " |-- dropoff_location_id_idx: double (nullable = false)\n",
      " |-- dropoff_location_id_onehot: vector (nullable = true)\n",
      " |-- day_of_week_idx: double (nullable = false)\n",
      " |-- day_of_week_onehot: vector (nullable = true)\n",
      " |-- passenger_count_vecotr: vector (nullable = true)\n",
      " |-- passenger_count_scaled: vector (nullable = true)\n",
      " |-- trip_distance_vecotr: vector (nullable = true)\n",
      " |-- trip_distance_scaled: vector (nullable = true)\n",
      " |-- pickup_time_vecotr: vector (nullable = true)\n",
      " |-- pickup_time_scaled: vector (nullable = true)\n",
      " |-- feature_vector: vector (nullable = true)\n",
      "\n"
     ]
    }
   ],
   "source": [
    "vtrain_df.printSchema()"
   ]
  },
  {
   "cell_type": "code",
   "execution_count": 21,
   "id": "f2d00f60",
   "metadata": {},
   "outputs": [],
   "source": [
    "model = lr.fit(vtrain_df)"
   ]
  },
  {
   "cell_type": "code",
   "execution_count": 22,
   "id": "9a95e8c3",
   "metadata": {},
   "outputs": [],
   "source": [
    "vtest_df = fitted_transformer.transform(test_df)"
   ]
  },
  {
   "cell_type": "code",
   "execution_count": 23,
   "id": "05b3df31",
   "metadata": {},
   "outputs": [],
   "source": [
    "predictions = model.transform(vtest_df)"
   ]
  },
  {
   "cell_type": "code",
   "execution_count": 24,
   "id": "61d0d5df",
   "metadata": {},
   "outputs": [
    {
     "data": {
      "text/plain": [
       "DataFrame[passenger_count: double, pickup_location_id: int, dropoff_location_id: int, trip_distance: double, pickup_time: int, day_of_week: string, total_amount: double, pickup_location_id_idx: double, pickup_location_id_onehot: vector, dropoff_location_id_idx: double, dropoff_location_id_onehot: vector, day_of_week_idx: double, day_of_week_onehot: vector, passenger_count_vecotr: vector, passenger_count_scaled: vector, trip_distance_vecotr: vector, trip_distance_scaled: vector, pickup_time_vecotr: vector, pickup_time_scaled: vector, feature_vector: vector, prediction: double]"
      ]
     },
     "execution_count": 24,
     "metadata": {},
     "output_type": "execute_result"
    }
   ],
   "source": [
    "predictions.cache()"
   ]
  },
  {
   "cell_type": "code",
   "execution_count": 25,
   "id": "2a7f4514",
   "metadata": {},
   "outputs": [
    {
     "name": "stdout",
     "output_type": "stream",
     "text": [
      "+-------------+-----------+------------+------------------+\n",
      "|trip_distance|day_of_week|total_amount|        prediction|\n",
      "+-------------+-----------+------------+------------------+\n",
      "|          0.9|     Friday|        11.0|13.318352785511472|\n",
      "|          2.6|  Wednesday|        16.3| 18.55918367553734|\n",
      "|          0.5|   Thursday|         5.3| 9.642257078401965|\n",
      "|          1.2|     Friday|         7.8|11.294307717390119|\n",
      "|          4.4|   Thursday|        21.8|19.987258137630178|\n",
      "|          8.0|    Tuesday|        25.8|25.305473462313792|\n",
      "|          5.0|  Wednesday|        38.3|21.209775338474955|\n",
      "|          0.4|     Friday|         4.3| 7.474090787827781|\n",
      "|          1.2|     Monday|         6.3|11.655327097460667|\n",
      "|          4.4|    Tuesday|        26.6|19.085297925895418|\n",
      "|         13.8|   Thursday|       71.75| 64.63151435290409|\n",
      "|          1.0|   Saturday|       11.15|14.475177006590993|\n",
      "|          4.5|  Wednesday|        20.8| 22.84839846390161|\n",
      "|          7.9|     Friday|       36.95|30.193201503317134|\n",
      "|          3.6|   Thursday|        18.3|20.689463116897215|\n",
      "|          1.9|   Thursday|        14.8|16.360841521695143|\n",
      "|          6.9|     Monday|        27.3|  28.5566614852876|\n",
      "|          7.1|    Tuesday|        35.8| 29.37723273627186|\n",
      "|          1.4|     Friday|       14.16| 15.62311466110998|\n",
      "|          6.4|   Thursday|       27.35| 27.14304966003244|\n",
      "+-------------+-----------+------------+------------------+\n",
      "only showing top 20 rows\n",
      "\n"
     ]
    }
   ],
   "source": [
    "predictions.select([\"trip_distance\", \"day_of_week\", \"total_amount\", \"prediction\"]).show()"
   ]
  },
  {
   "cell_type": "code",
   "execution_count": 26,
   "id": "02f653ec",
   "metadata": {},
   "outputs": [
    {
     "data": {
      "text/plain": [
       "5.6756648873705835"
      ]
     },
     "execution_count": 26,
     "metadata": {},
     "output_type": "execute_result"
    }
   ],
   "source": [
    "model.summary.rootMeanSquaredError"
   ]
  },
  {
   "cell_type": "code",
   "execution_count": 27,
   "id": "02803459",
   "metadata": {},
   "outputs": [
    {
     "data": {
      "text/plain": [
       "0.8068877998347842"
      ]
     },
     "execution_count": 27,
     "metadata": {},
     "output_type": "execute_result"
    }
   ],
   "source": [
    "model.summary.r2"
   ]
  },
  {
   "cell_type": "code",
   "execution_count": 28,
   "id": "dbfba244",
   "metadata": {},
   "outputs": [],
   "source": [
    "model_dir = \"/Users/woals/data-engineering/01-spark/data/model\"\n",
    "model.save(model_dir)"
   ]
  },
  {
   "cell_type": "code",
   "execution_count": 29,
   "id": "f15e53ee",
   "metadata": {},
   "outputs": [],
   "source": [
    "from pyspark.ml.regression import LinearRegressionModel"
   ]
  },
  {
   "cell_type": "code",
   "execution_count": 30,
   "id": "8407cc86",
   "metadata": {},
   "outputs": [],
   "source": [
    "lr_model = LinearRegressionModel().load(model_dir)"
   ]
  },
  {
   "cell_type": "code",
   "execution_count": 31,
   "id": "d5a1de06",
   "metadata": {},
   "outputs": [],
   "source": [
    "predictions = lr_model.transform(vtest_df)"
   ]
  },
  {
   "cell_type": "code",
   "execution_count": 32,
   "id": "84595076",
   "metadata": {},
   "outputs": [
    {
     "name": "stdout",
     "output_type": "stream",
     "text": [
      "+---------------+------------------+-------------------+-------------+-----------+-----------+------------+----------------------+-------------------------+-----------------------+--------------------------+---------------+------------------+----------------------+----------------------+--------------------+--------------------+------------------+--------------------+--------------------+------------------+\n",
      "|passenger_count|pickup_location_id|dropoff_location_id|trip_distance|pickup_time|day_of_week|total_amount|pickup_location_id_idx|pickup_location_id_onehot|dropoff_location_id_idx|dropoff_location_id_onehot|day_of_week_idx|day_of_week_onehot|passenger_count_vecotr|passenger_count_scaled|trip_distance_vecotr|trip_distance_scaled|pickup_time_vecotr|  pickup_time_scaled|      feature_vector|        prediction|\n",
      "+---------------+------------------+-------------------+-------------+-----------+-----------+------------+----------------------+-------------------------+-----------------------+--------------------------+---------------+------------------+----------------------+----------------------+--------------------+--------------------+------------------+--------------------+--------------------+------------------+\n",
      "|            0.0|                 4|                 79|          0.9|         14|     Friday|        11.0|                  62.0|         (263,[62],[1.0])|                   18.0|          (261,[18],[1.0])|            0.0|     (7,[0],[1.0])|                 [0.0]|                 [0.0]|               [0.9]|[0.23526341920676...|            [14.0]|[2.7352535945626504]|(534,[62,281,524,...|13.318352785511472|\n",
      "|            0.0|                 4|                209|          2.6|         16|  Wednesday|        16.3|                  62.0|         (263,[62],[1.0])|                   62.0|          (261,[62],[1.0])|            2.0|     (7,[2],[1.0])|                 [0.0]|                 [0.0]|               [2.6]|[0.6796498777084449]|            [16.0]|[3.1260041080716006]|(534,[62,325,526,...| 18.55918367553734|\n",
      "|            0.0|                 7|                  7|          0.5|          8|   Thursday|         5.3|                  63.0|         (263,[63],[1.0])|                   57.0|          (261,[57],[1.0])|            1.0|     (7,[1],[1.0])|                 [0.0]|                 [0.0]|               [0.5]|[0.13070189955931...|             [8.0]|[1.5630020540358003]|(534,[63,320,525,...| 9.642257078401965|\n",
      "|            0.0|                 7|                  7|          1.2|          8|     Friday|         7.8|                  63.0|         (263,[63],[1.0])|                   57.0|          (261,[57],[1.0])|            0.0|     (7,[0],[1.0])|                 [0.0]|                 [0.0]|               [1.2]|[0.3136845589423592]|             [8.0]|[1.5630020540358003]|(534,[63,320,524,...|11.294307717390119|\n",
      "|            0.0|                 7|                 48|          4.4|         14|   Thursday|        21.8|                  63.0|         (263,[63],[1.0])|                   10.0|          (261,[10],[1.0])|            1.0|     (7,[1],[1.0])|                 [0.0]|                 [0.0]|               [4.4]|[1.1501767161219838]|            [14.0]|[2.7352535945626504]|(534,[63,273,525,...|19.987258137630178|\n",
      "|            0.0|                 7|                 92|          8.0|         13|    Tuesday|        25.8|                  63.0|         (263,[63],[1.0])|                  109.0|         (261,[109],[1.0])|            3.0|     (7,[3],[1.0])|                 [0.0]|                 [0.0]|               [8.0]| [2.091230392949061]|            [13.0]|[2.5398783378081755]|(534,[63,372,527,...|25.305473462313792|\n",
      "|            0.0|                 7|                186|          5.0|          9|  Wednesday|        38.3|                  63.0|         (263,[63],[1.0])|                   16.0|          (261,[16],[1.0])|            2.0|     (7,[2],[1.0])|                 [0.0]|                 [0.0]|               [5.0]|[1.3070189955931633]|             [9.0]|[1.7583773107902754]|(534,[63,279,526,...|21.209775338474955|\n",
      "|            0.0|                 7|                193|          0.4|         14|     Friday|         4.3|                  63.0|         (263,[63],[1.0])|                  107.0|         (261,[107],[1.0])|            0.0|     (7,[0],[1.0])|                 [0.0]|                 [0.0]|               [0.4]|[0.10456151964745...|            [14.0]|[2.7352535945626504]|(534,[63,370,524,...| 7.474090787827781|\n",
      "|            0.0|                 7|                202|          1.2|          7|     Monday|         6.3|                  63.0|         (263,[63],[1.0])|                  104.0|         (261,[104],[1.0])|            5.0|     (7,[5],[1.0])|                 [0.0]|                 [0.0]|               [1.2]|[0.3136845589423592]|             [7.0]|[1.3676267972813252]|(534,[63,367,529,...|11.655327097460667|\n",
      "|            0.0|                 7|                236|          4.4|          6|    Tuesday|        26.6|                  63.0|         (263,[63],[1.0])|                    0.0|           (261,[0],[1.0])|            3.0|     (7,[3],[1.0])|                 [0.0]|                 [0.0]|               [4.4]|[1.1501767161219838]|             [6.0]|  [1.17225154052685]|(534,[63,263,527,...|19.085297925895418|\n",
      "|            0.0|                10|                144|         13.8|         17|   Thursday|       71.75|                  83.0|         (263,[83],[1.0])|                   41.0|          (261,[41],[1.0])|            1.0|     (7,[1],[1.0])|                 [0.0]|                 [0.0]|              [13.8]| [3.607372427837131]|            [17.0]|[3.3213793648260754]|(534,[83,304,525,...| 64.63151435290409|\n",
      "|            0.0|                13|                 13|          1.0|         14|   Saturday|       11.15|                  47.0|         (263,[47],[1.0])|                   44.0|          (261,[44],[1.0])|            4.0|     (7,[4],[1.0])|                 [0.0]|                 [0.0]|               [1.0]|[0.26140379911863...|            [14.0]|[2.7352535945626504]|(534,[47,307,528,...|14.475177006590993|\n",
      "|            0.0|                13|                 50|          4.5|         17|  Wednesday|        20.8|                  47.0|         (263,[47],[1.0])|                   35.0|          (261,[35],[1.0])|            2.0|     (7,[2],[1.0])|                 [0.0]|                 [0.0]|               [4.5]| [1.176317096033847]|            [17.0]|[3.3213793648260754]|(534,[47,298,526,...| 22.84839846390161|\n",
      "|            0.0|                13|                 75|          7.9|          7|     Friday|       36.95|                  47.0|         (263,[47],[1.0])|                   19.0|          (261,[19],[1.0])|            0.0|     (7,[0],[1.0])|                 [0.0]|                 [0.0]|               [7.9]| [2.065090013037198]|             [7.0]|[1.3676267972813252]|(534,[47,282,524,...|30.193201503317134|\n",
      "|            0.0|                13|                100|          3.6|         16|   Thursday|        18.3|                  47.0|         (263,[47],[1.0])|                   30.0|          (261,[30],[1.0])|            1.0|     (7,[1],[1.0])|                 [0.0]|                 [0.0]|               [3.6]|[0.9410536768270775]|            [16.0]|[3.1260041080716006]|(534,[47,293,525,...|20.689463116897215|\n",
      "|            0.0|                13|                114|          1.9|          9|   Thursday|        14.8|                  47.0|         (263,[47],[1.0])|                   37.0|          (261,[37],[1.0])|            1.0|     (7,[1],[1.0])|                 [0.0]|                 [0.0]|               [1.9]| [0.496667218325402]|             [9.0]|[1.7583773107902754]|(534,[47,300,525,...|16.360841521695143|\n",
      "|            0.0|                13|                140|          6.9|         19|     Monday|        27.3|                  47.0|         (263,[47],[1.0])|                   11.0|          (261,[11],[1.0])|            5.0|     (7,[5],[1.0])|                 [0.0]|                 [0.0]|               [6.9]|[1.8036862139185654]|            [19.0]|[3.7121298783350256]|(534,[47,274,529,...|  28.5566614852876|\n",
      "|            0.0|                13|                143|          7.1|         18|    Tuesday|        35.8|                  47.0|         (263,[47],[1.0])|                   23.0|          (261,[23],[1.0])|            3.0|     (7,[3],[1.0])|                 [0.0]|                 [0.0]|               [7.1]|[1.8559669737422917]|            [18.0]|[3.5167546215805507]|(534,[47,286,527,...| 29.37723273627186|\n",
      "|            0.0|                13|                158|          1.4|         18|     Friday|       14.16|                  47.0|         (263,[47],[1.0])|                   38.0|          (261,[38],[1.0])|            0.0|     (7,[0],[1.0])|                 [0.0]|                 [0.0]|               [1.4]|[0.3659653187660857]|            [18.0]|[3.5167546215805507]|(534,[47,301,524,...| 15.62311466110998|\n",
      "|            0.0|                13|                229|          6.4|          7|   Thursday|       27.35|                  47.0|         (263,[47],[1.0])|                   13.0|          (261,[13],[1.0])|            1.0|     (7,[1],[1.0])|                 [0.0]|                 [0.0]|               [6.4]| [1.672984314359249]|             [7.0]|[1.3676267972813252]|(534,[47,276,525,...| 27.14304966003244|\n",
      "+---------------+------------------+-------------------+-------------+-----------+-----------+------------+----------------------+-------------------------+-----------------------+--------------------------+---------------+------------------+----------------------+----------------------+--------------------+--------------------+------------------+--------------------+--------------------+------------------+\n",
      "only showing top 20 rows\n",
      "\n"
     ]
    }
   ],
   "source": [
    "predictions.show()"
   ]
  },
  {
   "cell_type": "code",
   "execution_count": null,
   "id": "8f0f5e3c",
   "metadata": {},
   "outputs": [],
   "source": []
  }
 ],
 "metadata": {
  "kernelspec": {
   "display_name": "Python 3 (ipykernel)",
   "language": "python",
   "name": "python3"
  },
  "language_info": {
   "codemirror_mode": {
    "name": "ipython",
    "version": 3
   },
   "file_extension": ".py",
   "mimetype": "text/x-python",
   "name": "python",
   "nbconvert_exporter": "python",
   "pygments_lexer": "ipython3",
   "version": "3.8.16"
  }
 },
 "nbformat": 4,
 "nbformat_minor": 5
}
